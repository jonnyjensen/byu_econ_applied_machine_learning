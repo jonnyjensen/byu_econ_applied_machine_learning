{
 "cells": [
  {
   "cell_type": "markdown",
   "metadata": {},
   "source": [
    "## Multi-layer perceptron\n",
    "\n",
    "I am not even going to try and write a better intro. to neural nets than this...\n",
    "\n",
    "https://jalammar.github.io/visual-interactive-guide-basics-neural-networks/\n",
    "\n",
    "### Softmax Equation\n",
    "\n",
    "Given an array of values of length n, the softmax of value i in the array is:\n",
    "\n",
    "$$\\frac{e^{i}}{\\sum_{j}^{n}e^{j}}$$\n",
    "\n",
    "### Deep Neural Network\n",
    "\n",
    "When you have multiple hidden layers - the layers in between the input and softmax layers, the network is called deep.\n",
    "\n",
    "### Backpropagation\n",
    "\n",
    "Neural nets are trained using a technique called backpropagation. At a very high level, you pass a training example through your network (forward pass), then measure its error, and then you go backwards through each layer to measure the contribution of each connection to the error (backwards pass). You then use this information to adjust the weights of your connections using gradient descent. \n",
    "\n",
    "### Activation Functions\n",
    "\n",
    "The article above does not talk much about activation functions. Typically, in an MLP after you pass connections to a neuron you then apply an activation function. Historically, that activation function was a logistic function, which then is basically logistic regression.\n",
    "\n",
    "Another very popular activation function now is relu. Relu(z) = max(0,z). This is very fast to compute and in practice works very well.\n",
    "\n",
    "### Cross-entropy\n",
    "\n",
    "$$-\\frac{1}{m}\\sum_{i=1}^{m}\\sum_{k=1}^{K}y_{k}^{i}log(p_{k}^{i})$$\n",
    "\n",
    "Where:\n",
    "\n",
    "* m - the number of data points\n",
    "* K - the number of classes\n",
    "* y_{k}^{i} - the true class value for row i, class k. Either a zero or one depending on if k is the correct class\n",
    "* p_{k}^{i} - the value predicted by your model for class k, row i. Usually from your softmax\n",
    "\n",
    "This is the cost function you are trying to minimze.\n",
    "\n",
    "### Important to Remember\n",
    "\n",
    "* Scale data - usually zero to one\n",
    "* Shuffle data\n",
    "\n",
    "### Tuning Hyper-parameters\n",
    "\n",
    "* Better to use random search\n",
    "* Start with reasonable, known architectures\n",
    "* Number of hidden layers:\n",
    "    * Often can be valuable to have a deep network to learn heirarchy. Usually converge faster and generalize better. \n",
    "    * More complex problems can often require deeper networks and more data\n",
    "* Number of neurons:\n",
    "    * Typically size the layers to form a type of funnel with fewer and fewer neurons at each layer. This comes back the heirachy idea where you might need more neurons to learn lower level features. \n",
    "    * Also can try picking same number of neurons for all layers to have less parameters to tune\n",
    "* Usually more value in going deeper than wider\n",
    "* Can try going deeper and wider than you think necessary and use regularization techinques to prevent overfitting. Such as early stopping."
   ]
  },
  {
   "cell_type": "code",
   "execution_count": 7,
   "metadata": {
    "collapsed": false,
    "scrolled": true
   },
   "outputs": [
    {
     "name": "stdout",
     "output_type": "stream",
     "text": [
      "[0.0, 0.0, 0.02, 0.0, 0.97999999999999998]\n",
      "1.0\n"
     ]
    }
   ],
   "source": [
    "import numpy as np\n",
    "\n",
    "values = np.array([1.0, 3.0, 8.0, 4.0, 12.0])\n",
    "exp_values = np.exp(values)\n",
    "softmax = exp_values / sum(exp_values)\n",
    "print([round(x,2) for x in softmax])\n",
    "print(sum(softmax))"
   ]
  },
  {
   "cell_type": "markdown",
   "metadata": {},
   "source": [
    "## Example using Python"
   ]
  },
  {
   "cell_type": "code",
   "execution_count": 16,
   "metadata": {
    "collapsed": true
   },
   "outputs": [],
   "source": [
    "import tensorflow as tf"
   ]
  },
  {
   "cell_type": "code",
   "execution_count": 17,
   "metadata": {
    "collapsed": false
   },
   "outputs": [
    {
     "name": "stderr",
     "output_type": "stream",
     "text": [
      "Using TensorFlow backend.\n"
     ]
    }
   ],
   "source": [
    "from keras.models import Sequential\n",
    "from keras.layers import Dense, Activation\n",
    "from keras.utils import np_utils\n",
    "from keras.datasets import mnist\n",
    "from sklearn.metrics import confusion_matrix\n",
    "import numpy as np\n",
    "from __future__ import division"
   ]
  },
  {
   "cell_type": "code",
   "execution_count": 18,
   "metadata": {
    "collapsed": false
   },
   "outputs": [
    {
     "name": "stdout",
     "output_type": "stream",
     "text": [
      "Downloading data from https://s3.amazonaws.com/img-datasets/mnist.npz\n",
      "11493376/11490434 [==============================] - 3s 0us/step\n"
     ]
    }
   ],
   "source": [
    "(x_train, y_train), (x_test, y_test) = mnist.load_data()\n",
    "\n",
    "y_train = np_utils.to_categorical(y_train, 10)\n",
    "y_test = np_utils.to_categorical(y_test, 10)\n",
    "\n",
    "def vectorize_image(images):\n",
    "    scaled_images = images / 255\n",
    "    return images.reshape(scaled_images.shape[0],-1)\n",
    "\n",
    "x_train = vectorize_image(x_train)\n",
    "x_test = vectorize_image(x_test)"
   ]
  },
  {
   "cell_type": "code",
   "execution_count": 19,
   "metadata": {
    "collapsed": true
   },
   "outputs": [],
   "source": [
    "model = Sequential([\n",
    "    Dense(128, input_shape=(784,)),\n",
    "    Dense(10, activation='relu'),\n",
    "    Activation('softmax'),\n",
    "])"
   ]
  },
  {
   "cell_type": "code",
   "execution_count": 20,
   "metadata": {
    "collapsed": false
   },
   "outputs": [
    {
     "name": "stdout",
     "output_type": "stream",
     "text": [
      "_________________________________________________________________\n",
      "Layer (type)                 Output Shape              Param #   \n",
      "=================================================================\n",
      "dense_1 (Dense)              (None, 128)               100480    \n",
      "_________________________________________________________________\n",
      "dense_2 (Dense)              (None, 10)                1290      \n",
      "_________________________________________________________________\n",
      "activation_1 (Activation)    (None, 10)                0         \n",
      "=================================================================\n",
      "Total params: 101,770\n",
      "Trainable params: 101,770\n",
      "Non-trainable params: 0\n",
      "_________________________________________________________________\n"
     ]
    }
   ],
   "source": [
    "model.summary()"
   ]
  },
  {
   "cell_type": "code",
   "execution_count": 21,
   "metadata": {
    "collapsed": true
   },
   "outputs": [],
   "source": [
    "model.compile(optimizer='adam',\n",
    "              loss='categorical_crossentropy')"
   ]
  },
  {
   "cell_type": "code",
   "execution_count": 27,
   "metadata": {
    "collapsed": false
   },
   "outputs": [
    {
     "name": "stdout",
     "output_type": "stream",
     "text": [
      "Train on 54000 samples, validate on 6000 samples\n",
      "Epoch 1/5\n",
      "54000/54000 [==============================] - 7s 125us/step - loss: 14.4726 - val_loss: 14.4338\n",
      "Epoch 2/5\n",
      "54000/54000 [==============================] - 6s 119us/step - loss: 14.4726 - val_loss: 14.4338\n",
      "Epoch 3/5\n",
      "54000/54000 [==============================] - 6s 109us/step - loss: 14.4726 - val_loss: 14.4338\n",
      "Epoch 4/5\n",
      "54000/54000 [==============================] - 7s 125us/step - loss: 14.4726 - val_loss: 14.4338\n",
      "Epoch 5/5\n",
      "54000/54000 [==============================] - 6s 114us/step - loss: 14.4726 - val_loss: 14.4338\n"
     ]
    },
    {
     "data": {
      "text/plain": [
       "<keras.callbacks.History at 0xa973d30>"
      ]
     },
     "execution_count": 27,
     "metadata": {},
     "output_type": "execute_result"
    }
   ],
   "source": [
    "model.fit(x_train, y_train, epochs=5, batch_size=64, validation_split=.1)"
   ]
  },
  {
   "cell_type": "code",
   "execution_count": 23,
   "metadata": {
    "collapsed": true
   },
   "outputs": [],
   "source": [
    "test_predictions = np.argmax(model.predict(x_test),1)\n",
    "y_test_sparse = np.argmax(y_test, 1)"
   ]
  },
  {
   "cell_type": "code",
   "execution_count": 24,
   "metadata": {
    "collapsed": false
   },
   "outputs": [
    {
     "data": {
      "text/plain": [
       "array([[   0,    0,    0,  980,    0,    0,    0,    0,    0,    0],\n",
       "       [   0,    0,    0, 1123,    0,    0,    0,    0,   12,    0],\n",
       "       [   0,    0,    0, 1031,    0,    0,    0,    0,    1,    0],\n",
       "       [   0,    0,    0, 1009,    0,    0,    0,    0,    1,    0],\n",
       "       [   0,    0,    0,  959,    0,    0,    0,    0,   23,    0],\n",
       "       [   0,    0,    0,  890,    0,    0,    0,    0,    2,    0],\n",
       "       [   0,    0,    0,  957,    0,    0,    0,    0,    1,    0],\n",
       "       [   0,    0,    0, 1027,    0,    0,    0,    0,    1,    0],\n",
       "       [   0,    0,    0,  971,    0,    0,    0,    0,    3,    0],\n",
       "       [   0,    0,    0, 1008,    0,    0,    0,    0,    1,    0]], dtype=int64)"
      ]
     },
     "execution_count": 24,
     "metadata": {},
     "output_type": "execute_result"
    }
   ],
   "source": [
    "confusion_matrix(y_test_sparse, test_predictions)"
   ]
  },
  {
   "cell_type": "code",
   "execution_count": 25,
   "metadata": {
    "collapsed": false
   },
   "outputs": [
    {
     "data": {
      "text/plain": [
       "array([ 0.1012])"
      ]
     },
     "execution_count": 25,
     "metadata": {},
     "output_type": "execute_result"
    }
   ],
   "source": [
    "np.sum(y_test_sparse == test_predictions) / test_predictions.shape"
   ]
  },
  {
   "cell_type": "code",
   "execution_count": null,
   "metadata": {
    "collapsed": true
   },
   "outputs": [],
   "source": []
  }
 ],
 "metadata": {
  "anaconda-cloud": {},
  "kernelspec": {
   "display_name": "Python [Anaconda3]",
   "language": "python",
   "name": "Python [Anaconda3]"
  },
  "language_info": {
   "codemirror_mode": {
    "name": "ipython",
    "version": 3
   },
   "file_extension": ".py",
   "mimetype": "text/x-python",
   "name": "python",
   "nbconvert_exporter": "python",
   "pygments_lexer": "ipython3",
   "version": "3.5.2"
  }
 },
 "nbformat": 4,
 "nbformat_minor": 2
}
