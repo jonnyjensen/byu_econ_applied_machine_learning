{
 "cells": [
  {
   "cell_type": "markdown",
   "metadata": {},
   "source": [
    "# Homework 1#\n",
    "#### Reading in 3 sources of data\n",
    "1. Importing a csv data set (monthly stock returns)\n",
    "2. using pandas datareader to get data from a website (monthly returns for the stock market and the risk-free rate)\n",
    "3. Getting data via API (gasoline prices from the department of energy)\n",
    "\n",
    "#### Cleaning, Describing, and Visualizing each source\n"
   ]
  },
  {
   "cell_type": "markdown",
   "metadata": {},
   "source": [
    "### 1. CSV"
   ]
  },
  {
   "cell_type": "code",
   "execution_count": 1,
   "metadata": {
    "collapsed": true
   },
   "outputs": [],
   "source": [
    "import pandas as pd\n",
    "import numpy as np"
   ]
  },
  {
   "cell_type": "markdown",
   "metadata": {},
   "source": [
    "Read in the data into a dataframe. Delete an irrelevant column and missing observations, parse dates"
   ]
  },
  {
   "cell_type": "code",
   "execution_count": 2,
   "metadata": {
    "collapsed": false
   },
   "outputs": [
    {
     "data": {
      "text/html": [
       "<div>\n",
       "<style>\n",
       "    .dataframe thead tr:only-child th {\n",
       "        text-align: right;\n",
       "    }\n",
       "\n",
       "    .dataframe thead th {\n",
       "        text-align: left;\n",
       "    }\n",
       "\n",
       "    .dataframe tbody tr th {\n",
       "        vertical-align: top;\n",
       "    }\n",
       "</style>\n",
       "<table border=\"1\" class=\"dataframe\">\n",
       "  <thead>\n",
       "    <tr style=\"text-align: right;\">\n",
       "      <th></th>\n",
       "      <th>permno</th>\n",
       "      <th>date</th>\n",
       "      <th>shrcd</th>\n",
       "      <th>name</th>\n",
       "      <th>cusip</th>\n",
       "      <th>prc</th>\n",
       "      <th>ret</th>\n",
       "      <th>shrout</th>\n",
       "    </tr>\n",
       "  </thead>\n",
       "  <tbody>\n",
       "    <tr>\n",
       "      <th>0</th>\n",
       "      <td>10001</td>\n",
       "      <td>1990-01-31</td>\n",
       "      <td>11.0</td>\n",
       "      <td>GREAT FALLS GAS CO</td>\n",
       "      <td>36720410</td>\n",
       "      <td>-9.9375</td>\n",
       "      <td>-0.018519</td>\n",
       "      <td>1022.0</td>\n",
       "    </tr>\n",
       "    <tr>\n",
       "      <th>1</th>\n",
       "      <td>10001</td>\n",
       "      <td>1990-02-28</td>\n",
       "      <td>11.0</td>\n",
       "      <td>GREAT FALLS GAS CO</td>\n",
       "      <td>36720410</td>\n",
       "      <td>-9.8750</td>\n",
       "      <td>-0.006289</td>\n",
       "      <td>1022.0</td>\n",
       "    </tr>\n",
       "    <tr>\n",
       "      <th>2</th>\n",
       "      <td>10001</td>\n",
       "      <td>1990-03-30</td>\n",
       "      <td>11.0</td>\n",
       "      <td>GREAT FALLS GAS CO</td>\n",
       "      <td>36720410</td>\n",
       "      <td>-9.8750</td>\n",
       "      <td>0.012658</td>\n",
       "      <td>1027.0</td>\n",
       "    </tr>\n",
       "    <tr>\n",
       "      <th>3</th>\n",
       "      <td>10001</td>\n",
       "      <td>1990-04-30</td>\n",
       "      <td>11.0</td>\n",
       "      <td>GREAT FALLS GAS CO</td>\n",
       "      <td>36720410</td>\n",
       "      <td>-9.8750</td>\n",
       "      <td>0.000000</td>\n",
       "      <td>1027.0</td>\n",
       "    </tr>\n",
       "    <tr>\n",
       "      <th>4</th>\n",
       "      <td>10001</td>\n",
       "      <td>1990-05-31</td>\n",
       "      <td>11.0</td>\n",
       "      <td>GREAT FALLS GAS CO</td>\n",
       "      <td>36720410</td>\n",
       "      <td>9.7500</td>\n",
       "      <td>-0.012658</td>\n",
       "      <td>1027.0</td>\n",
       "    </tr>\n",
       "  </tbody>\n",
       "</table>\n",
       "</div>"
      ],
      "text/plain": [
       "   permno       date  shrcd                name     cusip     prc        ret  \\\n",
       "0   10001 1990-01-31   11.0  GREAT FALLS GAS CO  36720410 -9.9375  -0.018519   \n",
       "1   10001 1990-02-28   11.0  GREAT FALLS GAS CO  36720410 -9.8750  -0.006289   \n",
       "2   10001 1990-03-30   11.0  GREAT FALLS GAS CO  36720410 -9.8750   0.012658   \n",
       "3   10001 1990-04-30   11.0  GREAT FALLS GAS CO  36720410 -9.8750   0.000000   \n",
       "4   10001 1990-05-31   11.0  GREAT FALLS GAS CO  36720410  9.7500  -0.012658   \n",
       "\n",
       "   shrout  \n",
       "0  1022.0  \n",
       "1  1022.0  \n",
       "2  1027.0  \n",
       "3  1027.0  \n",
       "4  1027.0  "
      ]
     },
     "execution_count": 2,
     "metadata": {},
     "output_type": "execute_result"
    }
   ],
   "source": [
    "df = pd.read_csv('monthly_stock_file.csv',parse_dates=['date'])\n",
    "df.columns = ['permno','date','shrcd','name','shrcls','cusip','prc','ret','shrout']\n",
    "del df['shrcls']\n",
    "df = df.dropna()\n",
    "df.head(5)"
   ]
  },
  {
   "cell_type": "markdown",
   "metadata": {},
   "source": [
    "In financial research we often exclude low priced stocks, based on the price in the previous period.\n",
    "- first we create a variable with lagged price\n",
    "- then we drop low priced stocks based on lagged price\n",
    "- we also drop negative priced stocks, this is a code in the date for not having an accurate price\n",
    "- we also check for returns coded as \"B\" or \"C\", these are common codes for missing returns. We will drop these."
   ]
  },
  {
   "cell_type": "code",
   "execution_count": 3,
   "metadata": {
    "collapsed": true
   },
   "outputs": [],
   "source": [
    "df['prc_lag'] = df.groupby('permno')['prc'].shift(1)\n",
    "df = df.query('prc_lag >= 5 & prc >= 0 & ret != \"B\" & ret != \"C\"')\n"
   ]
  },
  {
   "cell_type": "markdown",
   "metadata": {},
   "source": [
    "We need to calculate the market equity of each stock. This represents how large the company is\n",
    "- We calculate Market Equity by multiplying the share price by the number of shares outstanding (prc*shrout)"
   ]
  },
  {
   "cell_type": "code",
   "execution_count": 4,
   "metadata": {
    "collapsed": false
   },
   "outputs": [],
   "source": [
    "df['me'] = df['prc']*df['shrout']"
   ]
  },
  {
   "cell_type": "markdown",
   "metadata": {},
   "source": [
    "With this data, we only want common stock (stocks with share code 11 or 12). We will also reset the index"
   ]
  },
  {
   "cell_type": "code",
   "execution_count": 5,
   "metadata": {
    "collapsed": true
   },
   "outputs": [],
   "source": [
    "df = df.query(\"shrcd ==11 | shrcd == 12\").reset_index(drop = True)"
   ]
  },
  {
   "cell_type": "markdown",
   "metadata": {},
   "source": [
    "next we want to sort our securities each month into 5 portfolios based on lagged market equity\n",
    "- This allows us to essentially compare small companies to larger companies based on returns\n",
    "- we create a market equity lagged variable\n",
    "- we then create a port variable with values 0, 1, 2, 3, or 4, assigning each stock to a quintile based portfolio "
   ]
  },
  {
   "cell_type": "code",
   "execution_count": 6,
   "metadata": {
    "collapsed": false
   },
   "outputs": [],
   "source": [
    "df['me_lag'] = df.groupby('permno')['me'].shift(1)\n",
    "df['port'] = df.groupby('date')['me_lag'].transform(pd.qcut,5,labels=False, duplicates = 'drop')"
   ]
  },
  {
   "cell_type": "markdown",
   "metadata": {},
   "source": [
    "Now we have a port variable with values 0-4 indicating which portfolio the security belongs to at each date"
   ]
  },
  {
   "cell_type": "markdown",
   "metadata": {},
   "source": [
    "We can now get portfolio returns at each date by aggregating stock returns in a pivot table\n",
    "- first we cast the return column as a float so that we can aggregate\n",
    "- next we create our pivot table called port_returns\n",
    "- we multiply the pivot table by 100 so the returns are in percent, for example 4.2 corresponds to 4.2%"
   ]
  },
  {
   "cell_type": "code",
   "execution_count": 7,
   "metadata": {
    "collapsed": false
   },
   "outputs": [],
   "source": [
    "df['ret'] = df['ret'].astype(float)\n",
    "port_returns = df.pivot_table('ret','date',columns='port',aggfunc='mean')*100"
   ]
  },
  {
   "cell_type": "markdown",
   "metadata": {},
   "source": [
    "It's helpful to rename the columns using a list comprehension"
   ]
  },
  {
   "cell_type": "code",
   "execution_count": 8,
   "metadata": {
    "collapsed": false
   },
   "outputs": [],
   "source": [
    "port_returns.columns = ['p' + str(int(x)) for x in port_returns.columns]"
   ]
  },
  {
   "cell_type": "markdown",
   "metadata": {},
   "source": [
    "Now we can use a nice custom summary statistic function to summarize each portfolio\n",
    "- this function reports the mean, standard deviation, and tstat (comparing the return to zero) for each portfolio"
   ]
  },
  {
   "cell_type": "code",
   "execution_count": 9,
   "metadata": {
    "collapsed": false
   },
   "outputs": [
    {
     "data": {
      "text/html": [
       "<div>\n",
       "<style>\n",
       "    .dataframe thead tr:only-child th {\n",
       "        text-align: right;\n",
       "    }\n",
       "\n",
       "    .dataframe thead th {\n",
       "        text-align: left;\n",
       "    }\n",
       "\n",
       "    .dataframe tbody tr th {\n",
       "        vertical-align: top;\n",
       "    }\n",
       "</style>\n",
       "<table border=\"1\" class=\"dataframe\">\n",
       "  <thead>\n",
       "    <tr style=\"text-align: right;\">\n",
       "      <th></th>\n",
       "      <th>p0</th>\n",
       "      <th>p1</th>\n",
       "      <th>p2</th>\n",
       "      <th>p3</th>\n",
       "      <th>p4</th>\n",
       "    </tr>\n",
       "  </thead>\n",
       "  <tbody>\n",
       "    <tr>\n",
       "      <th>mean</th>\n",
       "      <td>1.096350</td>\n",
       "      <td>1.074522</td>\n",
       "      <td>1.005051</td>\n",
       "      <td>0.997161</td>\n",
       "      <td>0.937689</td>\n",
       "    </tr>\n",
       "    <tr>\n",
       "      <th>std</th>\n",
       "      <td>4.792220</td>\n",
       "      <td>5.940763</td>\n",
       "      <td>6.006435</td>\n",
       "      <td>5.458381</td>\n",
       "      <td>4.617349</td>\n",
       "    </tr>\n",
       "    <tr>\n",
       "      <th>tstat</th>\n",
       "      <td>4.105257</td>\n",
       "      <td>3.245645</td>\n",
       "      <td>3.002611</td>\n",
       "      <td>3.278154</td>\n",
       "      <td>3.644131</td>\n",
       "    </tr>\n",
       "  </tbody>\n",
       "</table>\n",
       "</div>"
      ],
      "text/plain": [
       "             p0        p1        p2        p3        p4\n",
       "mean   1.096350  1.074522  1.005051  0.997161  0.937689\n",
       "std    4.792220  5.940763  6.006435  5.458381  4.617349\n",
       "tstat  4.105257  3.245645  3.002611  3.278154  3.644131"
      ]
     },
     "execution_count": 9,
     "metadata": {},
     "output_type": "execute_result"
    }
   ],
   "source": [
    "def summary(p):\n",
    "    s = p.describe().T\n",
    "    s['tstat'] = s['mean']/(s['std']/np.sqrt(s['count']))\n",
    "    return s[['mean','std','tstat']].T\n",
    "\n",
    "summary(port_returns)"
   ]
  },
  {
   "cell_type": "markdown",
   "metadata": {},
   "source": [
    "Notice there are significant differences between the smallest and largest portfolios"
   ]
  },
  {
   "cell_type": "markdown",
   "metadata": {},
   "source": [
    "finally we can graph portfolio returns over time"
   ]
  },
  {
   "cell_type": "code",
   "execution_count": 10,
   "metadata": {
    "collapsed": false
   },
   "outputs": [],
   "source": [
    "import matplotlib.pyplot as plt\n",
    "\n",
    "%matplotlib inline"
   ]
  },
  {
   "cell_type": "markdown",
   "metadata": {},
   "source": [
    "We will now graph portfolio 0 (small companies) and portfolio 4 (large companies) in red and blue"
   ]
  },
  {
   "cell_type": "code",
   "execution_count": 11,
   "metadata": {
    "collapsed": false
   },
   "outputs": [],
   "source": [
    "port_returns = port_returns.reset_index()\n",
    "x = port_returns['date']\n",
    "y1 = port_returns['p0']\n",
    "y2 = port_returns['p4']"
   ]
  },
  {
   "cell_type": "code",
   "execution_count": 12,
   "metadata": {
    "collapsed": false
   },
   "outputs": [
    {
     "data": {
      "text/plain": [
       "[<matplotlib.lines.Line2D at 0x1c82d400>,\n",
       " <matplotlib.lines.Line2D at 0x1c8576d8>]"
      ]
     },
     "execution_count": 12,
     "metadata": {},
     "output_type": "execute_result"
    },
    {
     "data": {
      "image/png": "[encoded data removed]",
      "text/plain": [
       "<matplotlib.figure.Figure at 0x4174b70>"
      ]
     },
     "metadata": {},
     "output_type": "display_data"
    }
   ],
   "source": [
    "plt.plot(x, y1, 'r', x, y2, 'b')"
   ]
  },
  {
   "cell_type": "markdown",
   "metadata": {},
   "source": [
    "### 2. Datareader"
   ]
  },
  {
   "cell_type": "code",
   "execution_count": 13,
   "metadata": {
    "collapsed": true
   },
   "outputs": [],
   "source": [
    "from pandas_datareader.data import DataReader\n"
   ]
  },
  {
   "cell_type": "code",
   "execution_count": 14,
   "metadata": {
    "collapsed": false
   },
   "outputs": [
    {
     "data": {
      "text/html": [
       "<div>\n",
       "<style>\n",
       "    .dataframe thead tr:only-child th {\n",
       "        text-align: right;\n",
       "    }\n",
       "\n",
       "    .dataframe thead th {\n",
       "        text-align: left;\n",
       "    }\n",
       "\n",
       "    .dataframe tbody tr th {\n",
       "        vertical-align: top;\n",
       "    }\n",
       "</style>\n",
       "<table border=\"1\" class=\"dataframe\">\n",
       "  <thead>\n",
       "    <tr style=\"text-align: right;\">\n",
       "      <th></th>\n",
       "      <th>caldt</th>\n",
       "      <th>exmkt</th>\n",
       "      <th>rf</th>\n",
       "    </tr>\n",
       "  </thead>\n",
       "  <tbody>\n",
       "    <tr>\n",
       "      <th>1087</th>\n",
       "      <td>2017-08-01</td>\n",
       "      <td>0.16</td>\n",
       "      <td>0.09</td>\n",
       "    </tr>\n",
       "    <tr>\n",
       "      <th>1088</th>\n",
       "      <td>2017-09-01</td>\n",
       "      <td>2.51</td>\n",
       "      <td>0.09</td>\n",
       "    </tr>\n",
       "    <tr>\n",
       "      <th>1089</th>\n",
       "      <td>2017-10-01</td>\n",
       "      <td>2.25</td>\n",
       "      <td>0.09</td>\n",
       "    </tr>\n",
       "    <tr>\n",
       "      <th>1090</th>\n",
       "      <td>2017-11-01</td>\n",
       "      <td>3.12</td>\n",
       "      <td>0.08</td>\n",
       "    </tr>\n",
       "    <tr>\n",
       "      <th>1091</th>\n",
       "      <td>2017-12-01</td>\n",
       "      <td>1.06</td>\n",
       "      <td>0.09</td>\n",
       "    </tr>\n",
       "  </tbody>\n",
       "</table>\n",
       "</div>"
      ],
      "text/plain": [
       "          caldt  exmkt    rf\n",
       "1087 2017-08-01   0.16  0.09\n",
       "1088 2017-09-01   2.51  0.09\n",
       "1089 2017-10-01   2.25  0.09\n",
       "1090 2017-11-01   3.12  0.08\n",
       "1091 2017-12-01   1.06  0.09"
      ]
     },
     "execution_count": 14,
     "metadata": {},
     "output_type": "execute_result"
    }
   ],
   "source": [
    "start = '1927-01'\n",
    "fac = DataReader(\"F-F_Research_Data_Factors\", \"famafrench\",start=start)[0]\n",
    "fac['caldt'] = fac.index.to_timestamp()\n",
    "fac = fac[['caldt','Mkt-RF','RF']].reset_index(drop=True)\n",
    "fac = fac.rename(columns={'Mkt-RF':'exmkt','RF':'rf'})\n",
    "fac.tail()"
   ]
  },
  {
   "cell_type": "markdown",
   "metadata": {},
   "source": [
    "we want to limit the date range of this sample to match our previous data set"
   ]
  },
  {
   "cell_type": "code",
   "execution_count": 15,
   "metadata": {
    "collapsed": true
   },
   "outputs": [],
   "source": [
    "fac = fac.query('caldt > \"1990-01-01\"')"
   ]
  },
  {
   "cell_type": "markdown",
   "metadata": {},
   "source": [
    "This data set contains monthly portfolio returns that capture important effects\n",
    "\n",
    "- exmkt: The return on a portfolio containing all common stocks\n",
    "\n",
    "- rf: The risk free rate in the market\n",
    "\n",
    "We can graph and summarize these variables"
   ]
  },
  {
   "cell_type": "code",
   "execution_count": 16,
   "metadata": {
    "collapsed": false
   },
   "outputs": [
    {
     "data": {
      "text/html": [
       "<div>\n",
       "<style>\n",
       "    .dataframe thead tr:only-child th {\n",
       "        text-align: right;\n",
       "    }\n",
       "\n",
       "    .dataframe thead th {\n",
       "        text-align: left;\n",
       "    }\n",
       "\n",
       "    .dataframe tbody tr th {\n",
       "        vertical-align: top;\n",
       "    }\n",
       "</style>\n",
       "<table border=\"1\" class=\"dataframe\">\n",
       "  <thead>\n",
       "    <tr style=\"text-align: right;\">\n",
       "      <th></th>\n",
       "      <th>exmkt</th>\n",
       "      <th>rf</th>\n",
       "    </tr>\n",
       "  </thead>\n",
       "  <tbody>\n",
       "    <tr>\n",
       "      <th>mean</th>\n",
       "      <td>0.683701</td>\n",
       "      <td>0.226925</td>\n",
       "    </tr>\n",
       "    <tr>\n",
       "      <th>std</th>\n",
       "      <td>4.207892</td>\n",
       "      <td>0.192973</td>\n",
       "    </tr>\n",
       "    <tr>\n",
       "      <th>tstat</th>\n",
       "      <td>2.973886</td>\n",
       "      <td>21.523261</td>\n",
       "    </tr>\n",
       "  </tbody>\n",
       "</table>\n",
       "</div>"
      ],
      "text/plain": [
       "          exmkt         rf\n",
       "mean   0.683701   0.226925\n",
       "std    4.207892   0.192973\n",
       "tstat  2.973886  21.523261"
      ]
     },
     "execution_count": 16,
     "metadata": {},
     "output_type": "execute_result"
    }
   ],
   "source": [
    "summary(fac)"
   ]
  },
  {
   "cell_type": "code",
   "execution_count": 17,
   "metadata": {
    "collapsed": false
   },
   "outputs": [
    {
     "data": {
      "text/plain": [
       "[<matplotlib.lines.Line2D at 0x9d242e8>,\n",
       " <matplotlib.lines.Line2D at 0x9d4c5c0>]"
      ]
     },
     "execution_count": 17,
     "metadata": {},
     "output_type": "execute_result"
    },
    {
     "data": {
      "image/png": "[encoded data removed]",
      "text/plain": [
       "<matplotlib.figure.Figure at 0x9cc5f60>"
      ]
     },
     "metadata": {},
     "output_type": "display_data"
    }
   ],
   "source": [
    "x = fac['caldt']\n",
    "y1 = fac['exmkt']\n",
    "y2 = fac['rf']\n",
    "plt.plot(x,y1,'g',x,y2,'r')"
   ]
  },
  {
   "cell_type": "markdown",
   "metadata": {},
   "source": [
    "We might want to merge both of the data sets above to conduct further analysis\n",
    "- each of the data sets fac and port_returns are on a monthly level\n",
    "- pandas reads in both sets with a day variable. The days are meaningless, however, they don't match\n",
    "- we will create a new year month variable to merge the two data sets on\n",
    "- both data sets will have a yearmonth variable in the format yyyymm"
   ]
  },
  {
   "cell_type": "code",
   "execution_count": 18,
   "metadata": {
    "collapsed": false
   },
   "outputs": [],
   "source": [
    "fac['yearmonth'] = fac['caldt'].map(lambda x: 100*x.year + x.month)\n",
    "port_returns['yearmonth'] = port_returns['date'].map(lambda x: 100*x.year + x.month)\n",
    "merged_data = port_returns.merge(fac, on = \"yearmonth\", how = \"left\")"
   ]
  },
  {
   "cell_type": "code",
   "execution_count": 19,
   "metadata": {
    "collapsed": false
   },
   "outputs": [
    {
     "data": {
      "text/html": [
       "<div>\n",
       "<style>\n",
       "    .dataframe thead tr:only-child th {\n",
       "        text-align: right;\n",
       "    }\n",
       "\n",
       "    .dataframe thead th {\n",
       "        text-align: left;\n",
       "    }\n",
       "\n",
       "    .dataframe tbody tr th {\n",
       "        vertical-align: top;\n",
       "    }\n",
       "</style>\n",
       "<table border=\"1\" class=\"dataframe\">\n",
       "  <thead>\n",
       "    <tr style=\"text-align: right;\">\n",
       "      <th></th>\n",
       "      <th>date</th>\n",
       "      <th>p0</th>\n",
       "      <th>p1</th>\n",
       "      <th>p2</th>\n",
       "      <th>p3</th>\n",
       "      <th>p4</th>\n",
       "      <th>yearmonth</th>\n",
       "      <th>caldt</th>\n",
       "      <th>exmkt</th>\n",
       "      <th>rf</th>\n",
       "    </tr>\n",
       "  </thead>\n",
       "  <tbody>\n",
       "    <tr>\n",
       "      <th>0</th>\n",
       "      <td>1990-03-30</td>\n",
       "      <td>2.712937</td>\n",
       "      <td>3.718324</td>\n",
       "      <td>4.249091</td>\n",
       "      <td>2.723127</td>\n",
       "      <td>2.466531</td>\n",
       "      <td>199003</td>\n",
       "      <td>1990-03-01</td>\n",
       "      <td>1.83</td>\n",
       "      <td>0.64</td>\n",
       "    </tr>\n",
       "    <tr>\n",
       "      <th>1</th>\n",
       "      <td>1990-04-30</td>\n",
       "      <td>-3.626120</td>\n",
       "      <td>-2.814045</td>\n",
       "      <td>-3.092009</td>\n",
       "      <td>-4.266629</td>\n",
       "      <td>-4.073740</td>\n",
       "      <td>199004</td>\n",
       "      <td>1990-04-01</td>\n",
       "      <td>-3.36</td>\n",
       "      <td>0.69</td>\n",
       "    </tr>\n",
       "    <tr>\n",
       "      <th>2</th>\n",
       "      <td>1990-05-31</td>\n",
       "      <td>4.182802</td>\n",
       "      <td>6.617421</td>\n",
       "      <td>8.209032</td>\n",
       "      <td>8.424287</td>\n",
       "      <td>9.515312</td>\n",
       "      <td>199005</td>\n",
       "      <td>1990-05-01</td>\n",
       "      <td>8.42</td>\n",
       "      <td>0.68</td>\n",
       "    </tr>\n",
       "    <tr>\n",
       "      <th>3</th>\n",
       "      <td>1990-06-29</td>\n",
       "      <td>1.134338</td>\n",
       "      <td>1.851190</td>\n",
       "      <td>0.145307</td>\n",
       "      <td>-0.339569</td>\n",
       "      <td>-0.903709</td>\n",
       "      <td>199006</td>\n",
       "      <td>1990-06-01</td>\n",
       "      <td>-1.09</td>\n",
       "      <td>0.63</td>\n",
       "    </tr>\n",
       "    <tr>\n",
       "      <th>4</th>\n",
       "      <td>1990-07-31</td>\n",
       "      <td>-3.588767</td>\n",
       "      <td>-4.081665</td>\n",
       "      <td>-3.890012</td>\n",
       "      <td>-3.723686</td>\n",
       "      <td>-1.620808</td>\n",
       "      <td>199007</td>\n",
       "      <td>1990-07-01</td>\n",
       "      <td>-1.90</td>\n",
       "      <td>0.68</td>\n",
       "    </tr>\n",
       "  </tbody>\n",
       "</table>\n",
       "</div>"
      ],
      "text/plain": [
       "        date        p0        p1        p2        p3        p4  yearmonth  \\\n",
       "0 1990-03-30  2.712937  3.718324  4.249091  2.723127  2.466531     199003   \n",
       "1 1990-04-30 -3.626120 -2.814045 -3.092009 -4.266629 -4.073740     199004   \n",
       "2 1990-05-31  4.182802  6.617421  8.209032  8.424287  9.515312     199005   \n",
       "3 1990-06-29  1.134338  1.851190  0.145307 -0.339569 -0.903709     199006   \n",
       "4 1990-07-31 -3.588767 -4.081665 -3.890012 -3.723686 -1.620808     199007   \n",
       "\n",
       "       caldt  exmkt    rf  \n",
       "0 1990-03-01   1.83  0.64  \n",
       "1 1990-04-01  -3.36  0.69  \n",
       "2 1990-05-01   8.42  0.68  \n",
       "3 1990-06-01  -1.09  0.63  \n",
       "4 1990-07-01  -1.90  0.68  "
      ]
     },
     "execution_count": 19,
     "metadata": {},
     "output_type": "execute_result"
    }
   ],
   "source": [
    "merged_data.head()"
   ]
  },
  {
   "cell_type": "markdown",
   "metadata": {},
   "source": [
    "- We could now look at how the portfolio returns covary with the market return, or a variety of other questions"
   ]
  },
  {
   "cell_type": "markdown",
   "metadata": {},
   "source": [
    "### 3. API"
   ]
  },
  {
   "cell_type": "code",
   "execution_count": 20,
   "metadata": {
    "collapsed": true
   },
   "outputs": [],
   "source": [
    "import json\n",
    "import requests"
   ]
  },
  {
   "cell_type": "markdown",
   "metadata": {},
   "source": [
    "I found some nice energy data on gas prices\n",
    "\n",
    "I had to register and recieve a key in order to make the api request\n",
    "\n",
    "Below I am reading the data and getting it into json"
   ]
  },
  {
   "cell_type": "code",
   "execution_count": 21,
   "metadata": {
    "collapsed": false
   },
   "outputs": [],
   "source": [
    "api_url = \"http://api.eia.gov/series/?api_key=1ca12924e78e6d480f3a01b0cc96fc65&series_id=PET.EMM_EPMRR_PTE_NUS_DPG.M\"\n",
    "api_request = requests.get(api_url)\n",
    "api_dict = api_request.json()"
   ]
  },
  {
   "cell_type": "markdown",
   "metadata": {},
   "source": [
    "The data was formatted in a strange way, I turn it into a series of tuples\n",
    "\n",
    "I then apply pd.Series to get a dataframe with 2 columns which I name date and price (gas price)"
   ]
  },
  {
   "cell_type": "code",
   "execution_count": 22,
   "metadata": {
    "collapsed": false
   },
   "outputs": [],
   "source": [
    "series = api_dict['series']\n",
    "x = pd.Series(series[0]['data'])\n",
    "gas = x.apply(pd.Series)\n",
    "gas.columns = ['caldt','price']"
   ]
  },
  {
   "cell_type": "markdown",
   "metadata": {},
   "source": [
    "There is at least one date with an empty price, I take care of those observations here.\n",
    "\n",
    "I also format the date to match up with the above stock data"
   ]
  },
  {
   "cell_type": "code",
   "execution_count": 23,
   "metadata": {
    "collapsed": false
   },
   "outputs": [
    {
     "data": {
      "text/html": [
       "<div>\n",
       "<style>\n",
       "    .dataframe thead tr:only-child th {\n",
       "        text-align: right;\n",
       "    }\n",
       "\n",
       "    .dataframe thead th {\n",
       "        text-align: left;\n",
       "    }\n",
       "\n",
       "    .dataframe tbody tr th {\n",
       "        vertical-align: top;\n",
       "    }\n",
       "</style>\n",
       "<table border=\"1\" class=\"dataframe\">\n",
       "  <thead>\n",
       "    <tr style=\"text-align: right;\">\n",
       "      <th></th>\n",
       "      <th>caldt</th>\n",
       "      <th>price</th>\n",
       "    </tr>\n",
       "  </thead>\n",
       "  <tbody>\n",
       "    <tr>\n",
       "      <th>0</th>\n",
       "      <td>2017-12-01</td>\n",
       "      <td>2.663</td>\n",
       "    </tr>\n",
       "    <tr>\n",
       "      <th>1</th>\n",
       "      <td>2017-11-01</td>\n",
       "      <td>2.751</td>\n",
       "    </tr>\n",
       "    <tr>\n",
       "      <th>2</th>\n",
       "      <td>2017-10-01</td>\n",
       "      <td>2.663</td>\n",
       "    </tr>\n",
       "    <tr>\n",
       "      <th>3</th>\n",
       "      <td>2017-09-01</td>\n",
       "      <td>2.802</td>\n",
       "    </tr>\n",
       "    <tr>\n",
       "      <th>4</th>\n",
       "      <td>2017-08-01</td>\n",
       "      <td>2.557</td>\n",
       "    </tr>\n",
       "  </tbody>\n",
       "</table>\n",
       "</div>"
      ],
      "text/plain": [
       "       caldt  price\n",
       "0 2017-12-01  2.663\n",
       "1 2017-11-01  2.751\n",
       "2 2017-10-01  2.663\n",
       "3 2017-09-01  2.802\n",
       "4 2017-08-01  2.557"
      ]
     },
     "execution_count": 23,
     "metadata": {},
     "output_type": "execute_result"
    }
   ],
   "source": [
    "gas = gas.dropna()\n",
    "gas['caldt'] = pd.to_datetime(gas['caldt'], format = \"%Y%m\")\n",
    "gas.head()"
   ]
  },
  {
   "cell_type": "markdown",
   "metadata": {},
   "source": [
    "We can now look at some summary statistics of gasoline prices\n",
    "\n",
    "1. Prices in the entire date range\n",
    "2. Prices after 2010"
   ]
  },
  {
   "cell_type": "code",
   "execution_count": 24,
   "metadata": {
    "collapsed": false
   },
   "outputs": [
    {
     "data": {
      "text/plain": [
       "count    277.000000\n",
       "mean       2.275473\n",
       "std        0.916669\n",
       "min        0.984000\n",
       "25%        1.461000\n",
       "50%        2.267000\n",
       "75%        2.991000\n",
       "max        4.190000\n",
       "Name: price, dtype: float64"
      ]
     },
     "execution_count": 24,
     "metadata": {},
     "output_type": "execute_result"
    }
   ],
   "source": [
    "gas['price'].describe()"
   ]
  },
  {
   "cell_type": "code",
   "execution_count": 25,
   "metadata": {
    "collapsed": false
   },
   "outputs": [
    {
     "data": {
      "text/plain": [
       "count    96.000000\n",
       "mean      3.109323\n",
       "std       0.584712\n",
       "min       1.936000\n",
       "25%       2.572000\n",
       "50%       3.037500\n",
       "75%       3.693500\n",
       "max       4.032000\n",
       "Name: price, dtype: float64"
      ]
     },
     "execution_count": 25,
     "metadata": {},
     "output_type": "execute_result"
    }
   ],
   "source": [
    "gas.query(\"caldt >= '2010-01-01'\")['price'].describe()"
   ]
  },
  {
   "cell_type": "markdown",
   "metadata": {},
   "source": [
    "Next we can graph gasoline prices"
   ]
  },
  {
   "cell_type": "code",
   "execution_count": 26,
   "metadata": {
    "collapsed": false
   },
   "outputs": [
    {
     "data": {
      "text/plain": [
       "[<matplotlib.lines.Line2D at 0x9ecd3c8>]"
      ]
     },
     "execution_count": 26,
     "metadata": {},
     "output_type": "execute_result"
    },
    {
     "data": {
      "image/png": "[encoded data removed]",
      "text/plain": [
       "<matplotlib.figure.Figure at 0xa085e48>"
      ]
     },
     "metadata": {},
     "output_type": "display_data"
    }
   ],
   "source": [
    "plt.plot(gas['caldt'],gas['price'])"
   ]
  },
  {
   "cell_type": "markdown",
   "metadata": {},
   "source": [
    "Now we can merge gasoline prices with our monthly market return and graph the market return along with gasoline prices"
   ]
  },
  {
   "cell_type": "code",
   "execution_count": 27,
   "metadata": {
    "collapsed": false
   },
   "outputs": [
    {
     "data": {
      "text/plain": [
       "[<matplotlib.lines.Line2D at 0xa147b38>,\n",
       " <matplotlib.lines.Line2D at 0xa0adeb8>]"
      ]
     },
     "execution_count": 27,
     "metadata": {},
     "output_type": "execute_result"
    },
    {
     "data": {
      "image/png": "[encoded data removed]",
      "text/plain": [
       "<matplotlib.figure.Figure at 0x9cc5470>"
      ]
     },
     "metadata": {},
     "output_type": "display_data"
    }
   ],
   "source": [
    "merge = gas.merge(fac, on = 'caldt',how = 'right')\n",
    "x = merge['caldt']\n",
    "y1 = merge['price']\n",
    "y2 = merge['exmkt']\n",
    "plt.plot(x,y1,'r',x,y2,'b')"
   ]
  },
  {
   "cell_type": "markdown",
   "metadata": {},
   "source": [
    "### The End\n",
    "- Hopefully I completed all of the requirements for this assignment\n",
    "- I had never used json or api's before, so this was actually pretty cool."
   ]
  }
 ],
 "metadata": {
  "anaconda-cloud": {},
  "kernelspec": {
   "display_name": "Python [Root]",
   "language": "python",
   "name": "Python [Root]"
  },
  "language_info": {
   "codemirror_mode": {
    "name": "ipython",
    "version": 3
   },
   "file_extension": ".py",
   "mimetype": "text/x-python",
   "name": "python",
   "nbconvert_exporter": "python",
   "pygments_lexer": "ipython3",
   "version": "3.5.2"
  }
 },
 "nbformat": 4,
 "nbformat_minor": 0
}
