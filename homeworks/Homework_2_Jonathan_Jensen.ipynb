{
 "cells": [
  {
   "cell_type": "markdown",
   "metadata": {},
   "source": [
    "## Introduction to Modeling with Python\n",
    "\n",
    "Now that we have seen some examples of modeling and using Python for modeling, we wanted to give you a chance to try your hand!\n",
    "\n",
    "To that goal, we choose a well structured problem with plenty of resources online to help you along the way. That problem is predicting housing prices and is hosted on Kaggle:\n",
    "\n",
    "https://www.kaggle.com/c/house-prices-advanced-regression-techniques\n",
    "\n",
    "First, make sure you are signed up on Kaggle and then download the data:\n",
    "\n",
    "https://www.kaggle.com/c/house-prices-advanced-regression-techniques/data\n",
    "\n",
    "The data includes both testing and training sets as well as a sample submission file. \n",
    "\n",
    "Your goal is the predict the sales price for each house where root mean squared error is the evaluation metric. To get some ideas on where to start, feel free to check out Kaggle Kernels:\n",
    "\n",
    "https://www.kaggle.com/c/house-prices-advanced-regression-techniques/kernels\n",
    "\n",
    "And the discussion board:\n",
    "\n",
    "https://www.kaggle.com/c/house-prices-advanced-regression-techniques/discussion\n",
    "\n",
    "Again - the goal of this homework is to get you exposed to modeling with Python. Feel free to use online resources to help guide you, but we expect original thought as well. Our hope is by the end of this homework you will feel comfortable exploring data in Python and building models to make predictions. Also please submit your test results to Kaggle and let us know your ranking and score!\n",
    "\n",
    "\n",
    "### Grading\n",
    "\n",
    "This homework is due **Feb. 20, 2018 by 3:00pm Utah time.** By that time, you need to have committed all your code to your github and submitted a link to your work to the TA. We can see on your Github account when you last committed code. :)\n",
    "\n",
    "Rubric:\n",
    "\n",
    "* Code Quality - 10%\n",
    "* Storytelling - 10%\n",
    "* Result on Kaggle - 5%\n",
    "* Describing, Cleaning, and Visualizing data - 25%\n",
    "* Modeling - 50%\n",
    "\n",
    "More specifically, for modeling we will look for: \n",
    "\n",
    "* Model Selection: Did you try multiple models? Why did you choose these models? How do they work? What are they assumptions? And how did you test/account for them? How did you select hyper-parameters?\n",
    "* Model interpretation: What do the model results tell you? Which variables are important? High bias or variance and how did you / could you fix this? How confident are you in your results? \n",
    "* Model usefulness: Do you think your final model was useful? If so, how would you recommend using it? Convince us, that if we were a company, we would feel comfortable using your model with our users. Think about edge cases as well - are there certain areas that the model performs poorly on? Best on? How would you handle these cases, if say Zillow wanted to leverage your model realizing that bad recommendations on sale prices would hurt customer trust and your brand. This section also falls into the storytelling aspect of the grading."
   ]
  },
  {
   "cell_type": "code",
   "execution_count": 1,
   "metadata": {
    "collapsed": true
   },
   "outputs": [],
   "source": [
    "import pandas as pd\n",
    "from sklearn.linear_model import SGDRegressor\n",
    "from sklearn.metrics import mean_squared_error\n",
    "from sklearn.preprocessing import StandardScaler\n",
    "import seaborn as sns\n",
    "import matplotlib.pyplot as plt\n",
    "import numpy as np\n",
    "from sklearn.model_selection import learning_curve\n",
    "from sklearn.metrics import make_scorer\n",
    "%matplotlib inline"
   ]
  },
  {
   "cell_type": "code",
   "execution_count": 2,
   "metadata": {
    "collapsed": false
   },
   "outputs": [
    {
     "data": {
      "text/html": [
       "<div>\n",
       "<style>\n",
       "    .dataframe thead tr:only-child th {\n",
       "        text-align: right;\n",
       "    }\n",
       "\n",
       "    .dataframe thead th {\n",
       "        text-align: left;\n",
       "    }\n",
       "\n",
       "    .dataframe tbody tr th {\n",
       "        vertical-align: top;\n",
       "    }\n",
       "</style>\n",
       "<table border=\"1\" class=\"dataframe\">\n",
       "  <thead>\n",
       "    <tr style=\"text-align: right;\">\n",
       "      <th></th>\n",
       "      <th>MSSubClass</th>\n",
       "      <th>MSZoning</th>\n",
       "      <th>LotFrontage</th>\n",
       "      <th>LotArea</th>\n",
       "      <th>Street</th>\n",
       "      <th>Alley</th>\n",
       "      <th>LotShape</th>\n",
       "      <th>LandContour</th>\n",
       "      <th>Utilities</th>\n",
       "      <th>LotConfig</th>\n",
       "      <th>...</th>\n",
       "      <th>PoolArea</th>\n",
       "      <th>PoolQC</th>\n",
       "      <th>Fence</th>\n",
       "      <th>MiscFeature</th>\n",
       "      <th>MiscVal</th>\n",
       "      <th>MoSold</th>\n",
       "      <th>YrSold</th>\n",
       "      <th>SaleType</th>\n",
       "      <th>SaleCondition</th>\n",
       "      <th>SalePrice</th>\n",
       "    </tr>\n",
       "    <tr>\n",
       "      <th>Id</th>\n",
       "      <th></th>\n",
       "      <th></th>\n",
       "      <th></th>\n",
       "      <th></th>\n",
       "      <th></th>\n",
       "      <th></th>\n",
       "      <th></th>\n",
       "      <th></th>\n",
       "      <th></th>\n",
       "      <th></th>\n",
       "      <th></th>\n",
       "      <th></th>\n",
       "      <th></th>\n",
       "      <th></th>\n",
       "      <th></th>\n",
       "      <th></th>\n",
       "      <th></th>\n",
       "      <th></th>\n",
       "      <th></th>\n",
       "      <th></th>\n",
       "      <th></th>\n",
       "    </tr>\n",
       "  </thead>\n",
       "  <tbody>\n",
       "    <tr>\n",
       "      <th>1</th>\n",
       "      <td>60</td>\n",
       "      <td>RL</td>\n",
       "      <td>65.0</td>\n",
       "      <td>8450</td>\n",
       "      <td>Pave</td>\n",
       "      <td>NaN</td>\n",
       "      <td>Reg</td>\n",
       "      <td>Lvl</td>\n",
       "      <td>AllPub</td>\n",
       "      <td>Inside</td>\n",
       "      <td>...</td>\n",
       "      <td>0</td>\n",
       "      <td>NaN</td>\n",
       "      <td>NaN</td>\n",
       "      <td>NaN</td>\n",
       "      <td>0</td>\n",
       "      <td>2</td>\n",
       "      <td>2008</td>\n",
       "      <td>WD</td>\n",
       "      <td>Normal</td>\n",
       "      <td>208500</td>\n",
       "    </tr>\n",
       "  </tbody>\n",
       "</table>\n",
       "<p>1 rows × 80 columns</p>\n",
       "</div>"
      ],
      "text/plain": [
       "    MSSubClass MSZoning  LotFrontage  LotArea Street Alley LotShape  \\\n",
       "Id                                                                    \n",
       "1           60       RL         65.0     8450   Pave   NaN      Reg   \n",
       "\n",
       "   LandContour Utilities LotConfig    ...     PoolArea PoolQC Fence  \\\n",
       "Id                                    ...                             \n",
       "1          Lvl    AllPub    Inside    ...            0    NaN   NaN   \n",
       "\n",
       "   MiscFeature MiscVal MoSold  YrSold  SaleType  SaleCondition  SalePrice  \n",
       "Id                                                                         \n",
       "1          NaN       0      2    2008        WD         Normal     208500  \n",
       "\n",
       "[1 rows x 80 columns]"
      ]
     },
     "execution_count": 2,
     "metadata": {},
     "output_type": "execute_result"
    }
   ],
   "source": [
    "df = pd.read_csv(\"train_kaggle.csv\", index_col = 'Id')\n",
    "test = pd.read_csv('test_kaggle.csv',index_col='Id')\n",
    "df.head(1)"
   ]
  },
  {
   "cell_type": "markdown",
   "metadata": {},
   "source": [
    "### Model 1\n",
    "- get dummies for all categorical variables\n",
    "- fill na values with the mean\n",
    "- use the standard scaler\n",
    "- split the data into train and test\n",
    "- perform simple linear regression using some reasonable value for the tolerance and learning rate\n",
    "- evaluate based on root mean squared logarithmic error (what the kaggle competition uses)"
   ]
  },
  {
   "cell_type": "code",
   "execution_count": 3,
   "metadata": {
    "collapsed": false
   },
   "outputs": [],
   "source": [
    "df = pd.get_dummies(df)\n",
    "df = df.fillna(df.mean())\n",
    "target = df['SalePrice']\n",
    "del df['SalePrice']\n",
    "scaler = StandardScaler()\n",
    "scaler.fit(df)\n",
    "scaled_df = scaler.transform(df)\n",
    "\n",
    "\n",
    "test = pd.get_dummies(test)\n",
    "test = test.fillna(test.mean())\n",
    "\n"
   ]
  },
  {
   "cell_type": "code",
   "execution_count": 4,
   "metadata": {
    "collapsed": false
   },
   "outputs": [],
   "source": [
    "from sklearn.model_selection import train_test_split\n",
    "X_train, X_test, y_train, y_test = train_test_split(scaled_df, target, test_size=0.33, random_state=42)"
   ]
  },
  {
   "cell_type": "markdown",
   "metadata": {},
   "source": [
    "##### This function calculates root mean squared logarithmic error. This is what the Kaggle Comp. Judges \n",
    "- This function comes from Kaggle"
   ]
  },
  {
   "cell_type": "code",
   "execution_count": 5,
   "metadata": {
    "collapsed": true
   },
   "outputs": [],
   "source": [
    "def rmsle(y_true,y_pred):\n",
    "   assert len(y_true) == len(y_pred)\n",
    "   return np.square(np.log(y_pred + 1) - np.log(y_true + 1)).mean() ** 0.5"
   ]
  },
  {
   "cell_type": "markdown",
   "metadata": {},
   "source": [
    "##### Here we are jusing RandomizedSearchCV to find the best learning rate"
   ]
  },
  {
   "cell_type": "code",
   "execution_count": 6,
   "metadata": {
    "collapsed": false
   },
   "outputs": [
    {
     "name": "stdout",
     "output_type": "stream",
     "text": [
      "Best Parameters: {'eta0': 0.001}\n",
      "Best Negative MSE: -4091996652.096708\n"
     ]
    }
   ],
   "source": [
    "from sklearn.model_selection import RandomizedSearchCV\n",
    "\n",
    "param_dist = {\"eta0\": [ .001, .003, .01, .03, .1, .3, 1, 3]}\n",
    "\n",
    "linear_regression_model = SGDRegressor(tol=.0001)\n",
    "\n",
    "n_iter_search = 8\n",
    "random_search = RandomizedSearchCV(linear_regression_model, param_distributions=param_dist,\n",
    "                                   n_iter=n_iter_search, cv=3, scoring='neg_mean_squared_error')\n",
    "random_search.fit(X_train, y_train)\n",
    "\n",
    "print(\"Best Parameters: {}\".format(random_search.best_params_))\n",
    "print(\"Best Negative MSE: {}\".format(random_search.best_score_))"
   ]
  },
  {
   "cell_type": "markdown",
   "metadata": {},
   "source": [
    "- Here we see the results of our first model\n",
    "- the RMSLE for the train set seems good\n",
    "- the Test RMSLE is much worse. This suggests overfitting\n",
    "- We are also getting an error, lets investigate this further"
   ]
  },
  {
   "cell_type": "code",
   "execution_count": 7,
   "metadata": {
    "collapsed": false
   },
   "outputs": [
    {
     "name": "stdout",
     "output_type": "stream",
     "text": [
      "Train RMSLE: 0.10376387334683593\n",
      "Test RMSLE: 0.2249398983569005\n"
     ]
    },
    {
     "name": "stderr",
     "output_type": "stream",
     "text": [
      "C:\\Users\\jonathanjensen\\Anaconda3\\lib\\site-packages\\ipykernel\\__main__.py:3: RuntimeWarning: invalid value encountered in log\n",
      "  app.launch_new_instance()\n"
     ]
    }
   ],
   "source": [
    "linear_regression_model = SGDRegressor(tol=.0001, eta0=.001)\n",
    "linear_regression_model.fit(X_train, y_train)\n",
    "train_predictions = linear_regression_model.predict(X_train)\n",
    "test_predictions = linear_regression_model.predict(X_test)\n",
    "\n",
    "train_mse = rmsle(y_train, train_predictions)\n",
    "test_mse = rmsle(y_test, test_predictions)\n",
    "\n",
    "print(\"Train RMSLE: {}\".format(train_mse))\n",
    "print(\"Test RMSLE: {}\".format(test_mse))"
   ]
  },
  {
   "cell_type": "markdown",
   "metadata": {},
   "source": [
    "Notice the minimum train and test predictions below\n",
    "- the train prediction is reasonable\n",
    "- the test prediction is ridiculous\n",
    "- we are clearly overfitting and this is causing negative logs which are creating errors"
   ]
  },
  {
   "cell_type": "code",
   "execution_count": 8,
   "metadata": {
    "collapsed": false
   },
   "outputs": [
    {
     "name": "stdout",
     "output_type": "stream",
     "text": [
      "minimum train prediction: 40090.01408219928\n",
      "minimum test prediction: -171012.20649012117\n"
     ]
    }
   ],
   "source": [
    "print(\"minimum train prediction: {}\".format(train_predictions.min()))\n",
    "print(\"minimum test prediction: {}\".format(test_predictions.min()))"
   ]
  },
  {
   "cell_type": "code",
   "execution_count": 9,
   "metadata": {
    "collapsed": true
   },
   "outputs": [],
   "source": [
    "\n",
    "def plot_learning_curve(estimator, title, X, y, ylim=None, \n",
    "                        cv=None,n_jobs=1, train_sizes=np.linspace(.1, 1.0, 5)):\n",
    "    plt.figure()\n",
    "    plt.title(title)\n",
    "    if ylim is not None:\n",
    "        plt.ylim(*ylim)\n",
    "    plt.xlabel(\"Training examples\")\n",
    "    plt.ylabel(\"Score\")\n",
    "    train_sizes, train_scores, test_scores = learning_curve(\n",
    "        estimator, X, y, cv=cv, n_jobs=n_jobs, train_sizes=train_sizes, scoring=make_scorer(mean_squared_error))\n",
    "    train_scores_mean = np.mean(train_scores, axis=1)\n",
    "    train_scores_std = np.std(train_scores, axis=1)\n",
    "    test_scores_mean = np.mean(test_scores, axis=1)\n",
    "    test_scores_std = np.std(test_scores, axis=1)\n",
    "    plt.grid()\n",
    "\n",
    "    plt.fill_between(train_sizes, train_scores_mean - train_scores_std,\n",
    "                     train_scores_mean + train_scores_std, alpha=0.1,\n",
    "                     color=\"r\")\n",
    "    plt.fill_between(train_sizes, test_scores_mean - test_scores_std,\n",
    "                     test_scores_mean + test_scores_std, alpha=0.1, color=\"g\")\n",
    "    plt.plot(train_sizes, train_scores_mean, 'o-', color=\"r\",\n",
    "             label=\"Training score\")\n",
    "    plt.plot(train_sizes, test_scores_mean, 'o-', color=\"g\",\n",
    "             label=\"Cross-validation score\")\n",
    "\n",
    "    plt.legend(loc=\"best\")\n",
    "    return plt"
   ]
  },
  {
   "cell_type": "markdown",
   "metadata": {},
   "source": [
    "There definitely appears to be a problem with overfitting\n",
    "- Notice the learning curve\n",
    "- Training is down near zero\n",
    "- testing is way above training but approaches in the limit\n",
    "- classic high variance overfitting result\n",
    "- we are also getting warnings because there are convergence problems. "
   ]
  },
  {
   "cell_type": "code",
   "execution_count": 10,
   "metadata": {
    "collapsed": false
   },
   "outputs": [
    {
     "name": "stderr",
     "output_type": "stream",
     "text": [
      "C:\\Users\\jonathanjensen\\Anaconda3\\lib\\site-packages\\sklearn\\linear_model\\stochastic_gradient.py:1014: ConvergenceWarning: Maximum number of iteration reached before convergence. Consider increasing max_iter to improve the fit.\n",
      "  ConvergenceWarning)\n",
      "C:\\Users\\jonathanjensen\\Anaconda3\\lib\\site-packages\\sklearn\\linear_model\\stochastic_gradient.py:1014: ConvergenceWarning: Maximum number of iteration reached before convergence. Consider increasing max_iter to improve the fit.\n",
      "  ConvergenceWarning)\n",
      "C:\\Users\\jonathanjensen\\Anaconda3\\lib\\site-packages\\sklearn\\linear_model\\stochastic_gradient.py:1014: ConvergenceWarning: Maximum number of iteration reached before convergence. Consider increasing max_iter to improve the fit.\n",
      "  ConvergenceWarning)\n",
      "C:\\Users\\jonathanjensen\\Anaconda3\\lib\\site-packages\\sklearn\\linear_model\\stochastic_gradient.py:1014: ConvergenceWarning: Maximum number of iteration reached before convergence. Consider increasing max_iter to improve the fit.\n",
      "  ConvergenceWarning)\n",
      "C:\\Users\\jonathanjensen\\Anaconda3\\lib\\site-packages\\sklearn\\linear_model\\stochastic_gradient.py:1014: ConvergenceWarning: Maximum number of iteration reached before convergence. Consider increasing max_iter to improve the fit.\n",
      "  ConvergenceWarning)\n",
      "C:\\Users\\jonathanjensen\\Anaconda3\\lib\\site-packages\\sklearn\\linear_model\\stochastic_gradient.py:1014: ConvergenceWarning: Maximum number of iteration reached before convergence. Consider increasing max_iter to improve the fit.\n",
      "  ConvergenceWarning)\n",
      "C:\\Users\\jonathanjensen\\Anaconda3\\lib\\site-packages\\sklearn\\linear_model\\stochastic_gradient.py:1014: ConvergenceWarning: Maximum number of iteration reached before convergence. Consider increasing max_iter to improve the fit.\n",
      "  ConvergenceWarning)\n",
      "C:\\Users\\jonathanjensen\\Anaconda3\\lib\\site-packages\\sklearn\\linear_model\\stochastic_gradient.py:1014: ConvergenceWarning: Maximum number of iteration reached before convergence. Consider increasing max_iter to improve the fit.\n",
      "  ConvergenceWarning)\n",
      "C:\\Users\\jonathanjensen\\Anaconda3\\lib\\site-packages\\sklearn\\linear_model\\stochastic_gradient.py:1014: ConvergenceWarning: Maximum number of iteration reached before convergence. Consider increasing max_iter to improve the fit.\n",
      "  ConvergenceWarning)\n",
      "C:\\Users\\jonathanjensen\\Anaconda3\\lib\\site-packages\\sklearn\\linear_model\\stochastic_gradient.py:1014: ConvergenceWarning: Maximum number of iteration reached before convergence. Consider increasing max_iter to improve the fit.\n",
      "  ConvergenceWarning)\n"
     ]
    },
    {
     "data": {
      "text/plain": [
       "<module 'matplotlib.pyplot' from 'C:\\\\Users\\\\jonathanjensen\\\\Anaconda3\\\\lib\\\\site-packages\\\\matplotlib\\\\pyplot.py'>"
      ]
     },
     "execution_count": 10,
     "metadata": {},
     "output_type": "execute_result"
    },
    {
     "data": {
      "image/png": "[encoded data removed]",
      "text/plain": [
       "<matplotlib.figure.Figure at 0xb5ce5c0>"
      ]
     },
     "metadata": {},
     "output_type": "display_data"
    }
   ],
   "source": [
    "plot_learning_curve(linear_regression_model, \"Learning Curve\", X_train, y_train, cv=5)"
   ]
  },
  {
   "cell_type": "markdown",
   "metadata": {},
   "source": [
    "#### Problems with Model 1\n",
    "- We have tons of independent variables\n",
    "- We are filling empty values with the mean \n",
    "- we are using a simple linear model"
   ]
  },
  {
   "cell_type": "markdown",
   "metadata": {},
   "source": [
    "## Model 2: Polynomial features\n",
    "- There really isn't a huge reason to believe that this will help us with our overfitting problem,\n",
    "- but it's pretty easy to give it a shot"
   ]
  },
  {
   "cell_type": "code",
   "execution_count": 11,
   "metadata": {
    "collapsed": true
   },
   "outputs": [],
   "source": [
    "from sklearn.preprocessing import PolynomialFeatures"
   ]
  },
  {
   "cell_type": "code",
   "execution_count": 12,
   "metadata": {
    "collapsed": true
   },
   "outputs": [],
   "source": [
    "poly = PolynomialFeatures(2, include_bias=False)\n",
    "poly_df = poly.fit_transform(df)\n",
    "scaled_poly_df = scaler.fit_transform(poly_df)\n",
    "X_train, X_test, y_train, y_test = train_test_split(scaled_poly_df, target, test_size=0.33, random_state=42)"
   ]
  },
  {
   "cell_type": "code",
   "execution_count": 13,
   "metadata": {
    "collapsed": false
   },
   "outputs": [
    {
     "name": "stdout",
     "output_type": "stream",
     "text": [
      "Train RMSLE: 15.217466308938626\n",
      "Test RMSLE: 15.324825461928588\n"
     ]
    },
    {
     "name": "stderr",
     "output_type": "stream",
     "text": [
      "C:\\Users\\jonathanjensen\\Anaconda3\\lib\\site-packages\\ipykernel\\__main__.py:3: RuntimeWarning: invalid value encountered in log\n",
      "  app.launch_new_instance()\n"
     ]
    }
   ],
   "source": [
    "linear_regression_model.fit(scaled_poly_df, target)\n",
    "train_predictions = linear_regression_model.predict(X_train)\n",
    "test_predictions = linear_regression_model.predict(X_test)\n",
    "\n",
    "train_mse = rmsle(y_train, train_predictions)\n",
    "test_mse = rmsle(y_test, test_predictions)\n",
    "\n",
    "print(\"Train RMSLE: {}\".format(train_mse))\n",
    "print(\"Test RMSLE: {}\".format(test_mse))"
   ]
  },
  {
   "cell_type": "markdown",
   "metadata": {},
   "source": [
    "The Polynomial features model looks pretty bad. Let's try some feature selection to deal with the overfitting. \n"
   ]
  },
  {
   "cell_type": "markdown",
   "metadata": {},
   "source": [
    "### 3. Regularization using Lasso/Ridge"
   ]
  },
  {
   "cell_type": "code",
   "execution_count": 14,
   "metadata": {
    "collapsed": true
   },
   "outputs": [],
   "source": [
    "#back to our linear regression model\n",
    "X_train, X_test, y_train, y_test = train_test_split(scaled_df, target, test_size=0.33, random_state=42)"
   ]
  },
  {
   "cell_type": "code",
   "execution_count": 15,
   "metadata": {
    "collapsed": false
   },
   "outputs": [
    {
     "name": "stdout",
     "output_type": "stream",
     "text": [
      "Train MSE: 571075997.4748292\n",
      "Test MSE: 1067905640.6548494\n"
     ]
    }
   ],
   "source": [
    "from sklearn.linear_model import ElasticNetCV\n",
    "\n",
    "# l1 ratio of zero is l2 and visa-versa \n",
    "# alphas are how much to weight regularization\n",
    "clf = ElasticNetCV(l1_ratio=[.1, .5, .7, .9, .95, .99, 1], max_iter=100000)\n",
    "clf.fit(X_train, y_train)\n",
    "train_predictions = clf.predict(X_train)\n",
    "test_predictions = clf.predict(X_test)\n",
    "print(\"Train MSE: {}\".format(mean_squared_error(y_train, train_predictions)))\n",
    "print(\"Test MSE: {}\".format(mean_squared_error(y_test, test_predictions)))\n"
   ]
  },
  {
   "cell_type": "markdown",
   "metadata": {},
   "source": [
    "- I will now take the coefficients and try dropping columns with coefficient values less than .1"
   ]
  },
  {
   "cell_type": "code",
   "execution_count": 16,
   "metadata": {
    "collapsed": false
   },
   "outputs": [
    {
     "data": {
      "text/plain": [
       "count     288.000000\n",
       "mean      268.742618\n",
       "std      1333.877584\n",
       "min     -6047.664544\n",
       "25%      -351.516182\n",
       "50%        -0.000000\n",
       "75%       583.767182\n",
       "max      6215.208774\n",
       "Name: 0, dtype: float64"
      ]
     },
     "execution_count": 16,
     "metadata": {},
     "output_type": "execute_result"
    }
   ],
   "source": [
    "reg = df.copy()\n",
    "beta = clf.coef_\n",
    "b = pd.DataFrame(beta)\n",
    "b[0].describe()"
   ]
  },
  {
   "cell_type": "code",
   "execution_count": 17,
   "metadata": {
    "collapsed": true
   },
   "outputs": [],
   "source": [
    "b = b.transpose()\n",
    "b.columns= df.columns\n",
    "for r in reg.columns :\n",
    "    score = b.loc[0,r]\n",
    "    if score < 0:\n",
    "        del reg[r]"
   ]
  },
  {
   "cell_type": "code",
   "execution_count": 18,
   "metadata": {
    "collapsed": false
   },
   "outputs": [
    {
     "data": {
      "text/plain": [
       "(1460, 288)"
      ]
     },
     "execution_count": 18,
     "metadata": {},
     "output_type": "execute_result"
    }
   ],
   "source": [
    "df.shape"
   ]
  },
  {
   "cell_type": "code",
   "execution_count": 19,
   "metadata": {
    "collapsed": false
   },
   "outputs": [
    {
     "data": {
      "text/plain": [
       "(1460, 153)"
      ]
     },
     "execution_count": 19,
     "metadata": {},
     "output_type": "execute_result"
    }
   ],
   "source": [
    "reg.shape"
   ]
  },
  {
   "cell_type": "markdown",
   "metadata": {},
   "source": [
    "- It looks like we got rid of about 130 variables"
   ]
  },
  {
   "cell_type": "code",
   "execution_count": 20,
   "metadata": {
    "collapsed": false
   },
   "outputs": [
    {
     "data": {
      "text/html": [
       "<div>\n",
       "<style>\n",
       "    .dataframe thead tr:only-child th {\n",
       "        text-align: right;\n",
       "    }\n",
       "\n",
       "    .dataframe thead th {\n",
       "        text-align: left;\n",
       "    }\n",
       "\n",
       "    .dataframe tbody tr th {\n",
       "        vertical-align: top;\n",
       "    }\n",
       "</style>\n",
       "<table border=\"1\" class=\"dataframe\">\n",
       "  <thead>\n",
       "    <tr style=\"text-align: right;\">\n",
       "      <th></th>\n",
       "      <th>LotFrontage</th>\n",
       "      <th>LotArea</th>\n",
       "      <th>OverallQual</th>\n",
       "      <th>OverallCond</th>\n",
       "      <th>YearBuilt</th>\n",
       "      <th>YearRemodAdd</th>\n",
       "      <th>MasVnrArea</th>\n",
       "      <th>BsmtFinSF1</th>\n",
       "      <th>BsmtFinSF2</th>\n",
       "      <th>BsmtUnfSF</th>\n",
       "      <th>...</th>\n",
       "      <th>Fence_GdPrv</th>\n",
       "      <th>SaleType_CWD</th>\n",
       "      <th>SaleType_Con</th>\n",
       "      <th>SaleType_ConLD</th>\n",
       "      <th>SaleType_ConLw</th>\n",
       "      <th>SaleType_New</th>\n",
       "      <th>SaleType_Oth</th>\n",
       "      <th>SaleCondition_AdjLand</th>\n",
       "      <th>SaleCondition_Alloca</th>\n",
       "      <th>SaleCondition_Partial</th>\n",
       "    </tr>\n",
       "    <tr>\n",
       "      <th>Id</th>\n",
       "      <th></th>\n",
       "      <th></th>\n",
       "      <th></th>\n",
       "      <th></th>\n",
       "      <th></th>\n",
       "      <th></th>\n",
       "      <th></th>\n",
       "      <th></th>\n",
       "      <th></th>\n",
       "      <th></th>\n",
       "      <th></th>\n",
       "      <th></th>\n",
       "      <th></th>\n",
       "      <th></th>\n",
       "      <th></th>\n",
       "      <th></th>\n",
       "      <th></th>\n",
       "      <th></th>\n",
       "      <th></th>\n",
       "      <th></th>\n",
       "      <th></th>\n",
       "    </tr>\n",
       "  </thead>\n",
       "  <tbody>\n",
       "    <tr>\n",
       "      <th>1</th>\n",
       "      <td>65.0</td>\n",
       "      <td>8450</td>\n",
       "      <td>7</td>\n",
       "      <td>5</td>\n",
       "      <td>2003</td>\n",
       "      <td>2003</td>\n",
       "      <td>196.0</td>\n",
       "      <td>706</td>\n",
       "      <td>0</td>\n",
       "      <td>150</td>\n",
       "      <td>...</td>\n",
       "      <td>0</td>\n",
       "      <td>0</td>\n",
       "      <td>0</td>\n",
       "      <td>0</td>\n",
       "      <td>0</td>\n",
       "      <td>0</td>\n",
       "      <td>0</td>\n",
       "      <td>0</td>\n",
       "      <td>0</td>\n",
       "      <td>0</td>\n",
       "    </tr>\n",
       "    <tr>\n",
       "      <th>2</th>\n",
       "      <td>80.0</td>\n",
       "      <td>9600</td>\n",
       "      <td>6</td>\n",
       "      <td>8</td>\n",
       "      <td>1976</td>\n",
       "      <td>1976</td>\n",
       "      <td>0.0</td>\n",
       "      <td>978</td>\n",
       "      <td>0</td>\n",
       "      <td>284</td>\n",
       "      <td>...</td>\n",
       "      <td>0</td>\n",
       "      <td>0</td>\n",
       "      <td>0</td>\n",
       "      <td>0</td>\n",
       "      <td>0</td>\n",
       "      <td>0</td>\n",
       "      <td>0</td>\n",
       "      <td>0</td>\n",
       "      <td>0</td>\n",
       "      <td>0</td>\n",
       "    </tr>\n",
       "    <tr>\n",
       "      <th>3</th>\n",
       "      <td>68.0</td>\n",
       "      <td>11250</td>\n",
       "      <td>7</td>\n",
       "      <td>5</td>\n",
       "      <td>2001</td>\n",
       "      <td>2002</td>\n",
       "      <td>162.0</td>\n",
       "      <td>486</td>\n",
       "      <td>0</td>\n",
       "      <td>434</td>\n",
       "      <td>...</td>\n",
       "      <td>0</td>\n",
       "      <td>0</td>\n",
       "      <td>0</td>\n",
       "      <td>0</td>\n",
       "      <td>0</td>\n",
       "      <td>0</td>\n",
       "      <td>0</td>\n",
       "      <td>0</td>\n",
       "      <td>0</td>\n",
       "      <td>0</td>\n",
       "    </tr>\n",
       "  </tbody>\n",
       "</table>\n",
       "<p>3 rows × 153 columns</p>\n",
       "</div>"
      ],
      "text/plain": [
       "    LotFrontage  LotArea  OverallQual  OverallCond  YearBuilt  YearRemodAdd  \\\n",
       "Id                                                                            \n",
       "1          65.0     8450            7            5       2003          2003   \n",
       "2          80.0     9600            6            8       1976          1976   \n",
       "3          68.0    11250            7            5       2001          2002   \n",
       "\n",
       "    MasVnrArea  BsmtFinSF1  BsmtFinSF2  BsmtUnfSF          ...            \\\n",
       "Id                                                         ...             \n",
       "1        196.0         706           0        150          ...             \n",
       "2          0.0         978           0        284          ...             \n",
       "3        162.0         486           0        434          ...             \n",
       "\n",
       "    Fence_GdPrv  SaleType_CWD  SaleType_Con  SaleType_ConLD  SaleType_ConLw  \\\n",
       "Id                                                                            \n",
       "1             0             0             0               0               0   \n",
       "2             0             0             0               0               0   \n",
       "3             0             0             0               0               0   \n",
       "\n",
       "    SaleType_New  SaleType_Oth  SaleCondition_AdjLand  SaleCondition_Alloca  \\\n",
       "Id                                                                            \n",
       "1              0             0                      0                     0   \n",
       "2              0             0                      0                     0   \n",
       "3              0             0                      0                     0   \n",
       "\n",
       "    SaleCondition_Partial  \n",
       "Id                         \n",
       "1                       0  \n",
       "2                       0  \n",
       "3                       0  \n",
       "\n",
       "[3 rows x 153 columns]"
      ]
     },
     "execution_count": 20,
     "metadata": {},
     "output_type": "execute_result"
    }
   ],
   "source": [
    "reg.head(3)"
   ]
  },
  {
   "cell_type": "code",
   "execution_count": 21,
   "metadata": {
    "collapsed": false
   },
   "outputs": [],
   "source": [
    "scaler = StandardScaler()\n",
    "scaler.fit(reg)\n",
    "scaled_reg = scaler.transform(reg)\n"
   ]
  },
  {
   "cell_type": "code",
   "execution_count": 22,
   "metadata": {
    "collapsed": true
   },
   "outputs": [],
   "source": [
    "X_train, X_test, y_train, y_test = train_test_split(scaled_reg, target, test_size=0.33, random_state=42)"
   ]
  },
  {
   "cell_type": "markdown",
   "metadata": {},
   "source": [
    "- Lets search for the best learning rate"
   ]
  },
  {
   "cell_type": "code",
   "execution_count": 23,
   "metadata": {
    "collapsed": false
   },
   "outputs": [
    {
     "name": "stdout",
     "output_type": "stream",
     "text": [
      "Best Parameters: {'eta0': 0.001}\n",
      "Best Negative MSE: -2557969649.377927\n"
     ]
    }
   ],
   "source": [
    "param_dist = {\"eta0\": [ .001, .003, .01, .03, .1, .3, 1, 3]}\n",
    "\n",
    "linear_regression_model = SGDRegressor(tol=.0001)\n",
    "\n",
    "n_iter_search = 8\n",
    "random_search = RandomizedSearchCV(linear_regression_model, param_distributions=param_dist,\n",
    "                                   n_iter=n_iter_search, cv=3, scoring='neg_mean_squared_error')\n",
    "random_search.fit(X_train, y_train)\n",
    "\n",
    "print(\"Best Parameters: {}\".format(random_search.best_params_))\n",
    "print(\"Best Negative MSE: {}\".format(random_search.best_score_))"
   ]
  },
  {
   "cell_type": "code",
   "execution_count": 24,
   "metadata": {
    "collapsed": false
   },
   "outputs": [
    {
     "name": "stdout",
     "output_type": "stream",
     "text": [
      "Train RMSLE: 0.13466846247618486\n",
      "Test RMSLE: 0.23981614281726465\n"
     ]
    },
    {
     "name": "stderr",
     "output_type": "stream",
     "text": [
      "C:\\Users\\jonathanjensen\\Anaconda3\\lib\\site-packages\\ipykernel\\__main__.py:3: RuntimeWarning: invalid value encountered in log\n",
      "  app.launch_new_instance()\n"
     ]
    }
   ],
   "source": [
    "linear_regression_model = SGDRegressor(tol=.0001, eta0=.001)\n",
    "linear_regression_model.fit(X_train, y_train)\n",
    "train_predictions = linear_regression_model.predict(X_train)\n",
    "test_predictions = linear_regression_model.predict(X_test)\n",
    "\n",
    "train_mse = rmsle(y_train, train_predictions)\n",
    "test_mse = rmsle(y_test, test_predictions)\n",
    "\n",
    "print(\"Train RMSLE: {}\".format(train_mse))\n",
    "print(\"Test RMSLE: {}\".format(test_mse))"
   ]
  },
  {
   "cell_type": "markdown",
   "metadata": {},
   "source": [
    "- Our model is starting to seem a little more reasonable, but we still seem to have an overfitting problem. "
   ]
  },
  {
   "cell_type": "markdown",
   "metadata": {},
   "source": [
    "### Model 4: Polynomial Features on our new regularized data"
   ]
  },
  {
   "cell_type": "code",
   "execution_count": 25,
   "metadata": {
    "collapsed": true
   },
   "outputs": [],
   "source": [
    "poly = PolynomialFeatures(2, include_bias=False)\n",
    "poly_df = poly.fit_transform(reg)\n",
    "scaled_poly_df = scaler.fit_transform(poly_df)\n",
    "X_train, X_test, y_train, y_test = train_test_split(scaled_poly_df, target, test_size=0.33, random_state=42)"
   ]
  },
  {
   "cell_type": "code",
   "execution_count": 26,
   "metadata": {
    "collapsed": false
   },
   "outputs": [
    {
     "name": "stdout",
     "output_type": "stream",
     "text": [
      "Train RMSLE: 7.645378822366485\n",
      "Test RMSLE: 7.659171078942484\n"
     ]
    },
    {
     "name": "stderr",
     "output_type": "stream",
     "text": [
      "C:\\Users\\jonathanjensen\\Anaconda3\\lib\\site-packages\\ipykernel\\__main__.py:3: RuntimeWarning: invalid value encountered in log\n",
      "  app.launch_new_instance()\n"
     ]
    }
   ],
   "source": [
    "linear_regression_model.fit(scaled_poly_df, target)\n",
    "train_predictions = linear_regression_model.predict(X_train)\n",
    "test_predictions = linear_regression_model.predict(X_test)\n",
    "\n",
    "train_mse = rmsle(y_train, train_predictions)\n",
    "test_mse = rmsle(y_test, test_predictions)\n",
    "\n",
    "print(\"Train RMSLE: {}\".format(train_mse))\n",
    "print(\"Test RMSLE: {}\".format(test_mse))"
   ]
  },
  {
   "cell_type": "code",
   "execution_count": 27,
   "metadata": {
    "collapsed": false
   },
   "outputs": [
    {
     "data": {
      "text/plain": [
       "(11934,)"
      ]
     },
     "execution_count": 27,
     "metadata": {},
     "output_type": "execute_result"
    }
   ],
   "source": [
    "scaled_poly_df[1].shape"
   ]
  },
  {
   "cell_type": "markdown",
   "metadata": {},
   "source": [
    "- Polynomial Features is still looking pretty bad. With Polynomial features there are just way too many variables, 11934 in fact.\n"
   ]
  },
  {
   "cell_type": "markdown",
   "metadata": {},
   "source": [
    "### Model 5: Further Cleaning and Filtering the Data\n",
    "- Perhaps the month and year have an impact on housing prices\n",
    "- we can transform month and year into categorical variables \n",
    "- we can then repeat the process in models 3-4 and see if we reach improvements. "
   ]
  },
  {
   "cell_type": "markdown",
   "metadata": {},
   "source": [
    "- We can now create dummies for month and year and add them to df\n",
    "- we drop january and 2006 to avoid perfect multicollinearity in regression\n",
    "- coefficients on months and years become relative to jan 2006"
   ]
  },
  {
   "cell_type": "code",
   "execution_count": 28,
   "metadata": {
    "collapsed": false
   },
   "outputs": [],
   "source": [
    "month = pd.get_dummies(df['MoSold'])\n",
    "year = pd.get_dummies(df['YrSold'])\n",
    "month.columns = ['jan','feb','mar','apr','may','june','july','aug','sep','oct','nov','dec']\n",
    "year.columns = ['y2006','y2007','y2008','y2009','y2010']\n",
    "del month['jan']\n",
    "del year['y2006']\n",
    "df = pd.concat([df,month,year], axis = 1)\n",
    "del df['MoSold']\n",
    "del df['YrSold']\n",
    "\n",
    "test = pd.concat([test,month,year],axis=1)\n",
    "del test['MoSold']\n",
    "del test['YrSold']"
   ]
  },
  {
   "cell_type": "code",
   "execution_count": 29,
   "metadata": {
    "collapsed": false
   },
   "outputs": [],
   "source": [
    "scaler = StandardScaler()\n",
    "scaler.fit(df)\n",
    "scaled_df = scaler.transform(df)\n"
   ]
  },
  {
   "cell_type": "code",
   "execution_count": 30,
   "metadata": {
    "collapsed": true
   },
   "outputs": [],
   "source": [
    "X_train, X_test, y_train, y_test = train_test_split(scaled_df, target, test_size=0.33, random_state=42)"
   ]
  },
  {
   "cell_type": "code",
   "execution_count": 31,
   "metadata": {
    "collapsed": false
   },
   "outputs": [
    {
     "name": "stdout",
     "output_type": "stream",
     "text": [
      "Best Parameters: {'eta0': 0.001}\n",
      "Best Negative MSE: -4163191200.4677076\n"
     ]
    }
   ],
   "source": [
    "param_dist = {\"eta0\": [ .001, .003, .01, .03, .1, .3, 1, 3]}\n",
    "\n",
    "linear_regression_model = SGDRegressor(tol=.0001)\n",
    "\n",
    "n_iter_search = 8\n",
    "random_search = RandomizedSearchCV(linear_regression_model, param_distributions=param_dist,\n",
    "                                   n_iter=n_iter_search, cv=3, scoring='neg_mean_squared_error')\n",
    "random_search.fit(X_train, y_train)\n",
    "\n",
    "print(\"Best Parameters: {}\".format(random_search.best_params_))\n",
    "print(\"Best Negative MSE: {}\".format(random_search.best_score_))"
   ]
  },
  {
   "cell_type": "code",
   "execution_count": 32,
   "metadata": {
    "collapsed": false
   },
   "outputs": [
    {
     "name": "stdout",
     "output_type": "stream",
     "text": [
      "Train RMSLE: 0.10747988425348926\n",
      "Test RMSLE: 0.24242865014026097\n"
     ]
    },
    {
     "name": "stderr",
     "output_type": "stream",
     "text": [
      "C:\\Users\\jonathanjensen\\Anaconda3\\lib\\site-packages\\ipykernel\\__main__.py:3: RuntimeWarning: invalid value encountered in log\n",
      "  app.launch_new_instance()\n"
     ]
    }
   ],
   "source": [
    "linear_regression_model = SGDRegressor(tol=.0001, eta0=.001)\n",
    "linear_regression_model.fit(X_train, y_train)\n",
    "train_predictions = linear_regression_model.predict(X_train)\n",
    "test_predictions = linear_regression_model.predict(X_test)\n",
    "\n",
    "train_mse = rmsle(y_train, train_predictions)\n",
    "test_mse = rmsle(y_test, test_predictions)\n",
    "\n",
    "print(\"Train RMSLE: {}\".format(train_mse))\n",
    "print(\"Test RMSLE: {}\".format(test_mse))"
   ]
  },
  {
   "cell_type": "markdown",
   "metadata": {},
   "source": [
    "- Now lets use the same Regularization process as before"
   ]
  },
  {
   "cell_type": "markdown",
   "metadata": {},
   "source": [
    "##### Regularization"
   ]
  },
  {
   "cell_type": "code",
   "execution_count": 33,
   "metadata": {
    "collapsed": false
   },
   "outputs": [
    {
     "name": "stdout",
     "output_type": "stream",
     "text": [
      "Train MSE: 568256711.0748786\n",
      "Test MSE: 1065865522.4826893\n"
     ]
    }
   ],
   "source": [
    "clf = ElasticNetCV(l1_ratio=[.1, .5, .7, .9, .95, .99, 1], max_iter=100000)\n",
    "clf.fit(X_train, y_train)\n",
    "train_predictions = clf.predict(X_train)\n",
    "test_predictions = clf.predict(X_test)\n",
    "print(\"Train MSE: {}\".format(mean_squared_error(y_train, train_predictions)))\n",
    "print(\"Test MSE: {}\".format(mean_squared_error(y_test, test_predictions)))"
   ]
  },
  {
   "cell_type": "code",
   "execution_count": 34,
   "metadata": {
    "collapsed": true
   },
   "outputs": [],
   "source": [
    "reg = df.copy()"
   ]
  },
  {
   "cell_type": "code",
   "execution_count": 35,
   "metadata": {
    "collapsed": false
   },
   "outputs": [],
   "source": [
    "beta = clf.coef_\n",
    "b = pd.DataFrame(beta)\n",
    "b = b.transpose()\n",
    "b.columns= df.columns\n",
    "for r in reg.columns :\n",
    "    score = b.loc[0,r]\n",
    "    if score < 0:\n",
    "        del reg[r]\n",
    "        if r in test.columns:\n",
    "            del test[r]"
   ]
  },
  {
   "cell_type": "code",
   "execution_count": 36,
   "metadata": {
    "collapsed": true
   },
   "outputs": [],
   "source": [
    "scaler = StandardScaler()\n",
    "scaler.fit(reg)\n",
    "scaled_reg = scaler.transform(reg)\n",
    "X_train, X_test, y_train, y_test = train_test_split(scaled_reg, target, test_size=0.33, random_state=42)"
   ]
  },
  {
   "cell_type": "code",
   "execution_count": 37,
   "metadata": {
    "collapsed": false
   },
   "outputs": [
    {
     "name": "stdout",
     "output_type": "stream",
     "text": [
      "Train RMSLE: 0.13755366173737346\n",
      "Test RMSLE: 0.21453127731955987\n"
     ]
    },
    {
     "name": "stderr",
     "output_type": "stream",
     "text": [
      "C:\\Users\\jonathanjensen\\Anaconda3\\lib\\site-packages\\ipykernel\\__main__.py:3: RuntimeWarning: invalid value encountered in log\n",
      "  app.launch_new_instance()\n"
     ]
    }
   ],
   "source": [
    "scaler = StandardScaler()\n",
    "scaler.fit(reg)\n",
    "scaled_reg = scaler.transform(reg)\n",
    "X_train, X_test, y_train, y_test = train_test_split(scaled_reg, target, test_size=0.33, random_state=42)\n",
    "\n",
    "linear_regression_model = SGDRegressor(tol=.0001, eta0=.001)\n",
    "linear_regression_model.fit(X_train, y_train)\n",
    "train_predictions = linear_regression_model.predict(X_train)\n",
    "test_predictions = linear_regression_model.predict(X_test)\n",
    "\n",
    "train_mse = rmsle(y_train, train_predictions)\n",
    "test_mse = rmsle(y_test, test_predictions)\n",
    "\n",
    "print(\"Train RMSLE: {}\".format(train_mse))\n",
    "print(\"Test RMSLE: {}\".format(test_mse))"
   ]
  },
  {
   "cell_type": "markdown",
   "metadata": {},
   "source": [
    "We still appear to have significant overfitting. We need to further select features"
   ]
  },
  {
   "cell_type": "code",
   "execution_count": 38,
   "metadata": {
    "collapsed": false
   },
   "outputs": [
    {
     "name": "stdout",
     "output_type": "stream",
     "text": [
      "Train RMSLE: 7.063474647981012\n",
      "Test RMSLE: 7.019173525323365\n"
     ]
    },
    {
     "name": "stderr",
     "output_type": "stream",
     "text": [
      "C:\\Users\\jonathanjensen\\Anaconda3\\lib\\site-packages\\ipykernel\\__main__.py:3: RuntimeWarning: invalid value encountered in log\n",
      "  app.launch_new_instance()\n"
     ]
    }
   ],
   "source": [
    "poly = PolynomialFeatures(2, include_bias=True)\n",
    "poly_df = poly.fit_transform(reg)\n",
    "scaled_poly_df = scaler.fit_transform(poly_df)\n",
    "X_train, X_test, y_train, y_test = train_test_split(scaled_poly_df, target, test_size=0.33, random_state=42)\n",
    "\n",
    "linear_regression_model.fit(scaled_poly_df, target)\n",
    "train_predictions = linear_regression_model.predict(X_train)\n",
    "test_predictions = linear_regression_model.predict(X_test)\n",
    "\n",
    "train_mse = rmsle(y_train, train_predictions)\n",
    "test_mse = rmsle(y_test, test_predictions)\n",
    "\n",
    "print(\"Train RMSLE: {}\".format(train_mse))\n",
    "print(\"Test RMSLE: {}\".format(test_mse))"
   ]
  },
  {
   "cell_type": "markdown",
   "metadata": {},
   "source": [
    "#### Instead of looking at year built and year remodel lets just look at the time since either building or remodelling"
   ]
  },
  {
   "cell_type": "code",
   "execution_count": 39,
   "metadata": {
    "collapsed": false
   },
   "outputs": [],
   "source": [
    "reg['age'] = 2010 - reg[['YearBuilt','YearRemodAdd']].apply(np.max,axis=1)\n",
    "test['age'] = 2010 - test[['YearBuilt','YearRemodAdd']].apply(np.max,axis=1)\n"
   ]
  },
  {
   "cell_type": "code",
   "execution_count": 40,
   "metadata": {
    "collapsed": false
   },
   "outputs": [],
   "source": [
    "del reg['YearBuilt']\n",
    "del reg['YearRemodAdd']\n",
    "\n",
    "del test['YearBuilt']\n",
    "del test['YearRemodAdd']"
   ]
  },
  {
   "cell_type": "markdown",
   "metadata": {},
   "source": [
    "#### Now lets try transforming sales price and looking at log sales price\n",
    "- Notice the distribution of saleprice is fairly skewed, while log sale price looks pretty symmetric. "
   ]
  },
  {
   "cell_type": "code",
   "execution_count": 41,
   "metadata": {
    "collapsed": false
   },
   "outputs": [
    {
     "data": {
      "text/plain": [
       "<matplotlib.axes._subplots.AxesSubplot at 0xba60780>"
      ]
     },
     "execution_count": 41,
     "metadata": {},
     "output_type": "execute_result"
    },
    {
     "data": {
      "image/png": "[encoded data removed]",
      "text/plain": [
       "<matplotlib.figure.Figure at 0xba4c898>"
      ]
     },
     "metadata": {},
     "output_type": "display_data"
    }
   ],
   "source": [
    "sns.distplot(target)"
   ]
  },
  {
   "cell_type": "code",
   "execution_count": 42,
   "metadata": {
    "collapsed": false
   },
   "outputs": [
    {
     "data": {
      "text/plain": [
       "<matplotlib.axes._subplots.AxesSubplot at 0xb57dd30>"
      ]
     },
     "execution_count": 42,
     "metadata": {},
     "output_type": "execute_result"
    },
    {
     "data": {
      "image/png": "[encoded data removed]",
      "text/plain": [
       "<matplotlib.figure.Figure at 0xba9c320>"
      ]
     },
     "metadata": {},
     "output_type": "display_data"
    }
   ],
   "source": [
    "ltarget = np.log(target)\n",
    "sns.distplot(ltarget)"
   ]
  },
  {
   "cell_type": "markdown",
   "metadata": {},
   "source": [
    "#### Lets look at correlation with log sale price as a selection mechanism\n",
    "- We will drop all variables with absolute value correlation under .25 with log sale price"
   ]
  },
  {
   "cell_type": "code",
   "execution_count": 43,
   "metadata": {
    "collapsed": false
   },
   "outputs": [],
   "source": [
    "x = pd.concat([reg,ltarget],axis=1)"
   ]
  },
  {
   "cell_type": "markdown",
   "metadata": {},
   "source": [
    "Copy train and test data that we will further select features from"
   ]
  },
  {
   "cell_type": "code",
   "execution_count": 44,
   "metadata": {
    "collapsed": true
   },
   "outputs": [],
   "source": [
    "regc = reg.copy()\n",
    "testc = test.copy()"
   ]
  },
  {
   "cell_type": "code",
   "execution_count": 45,
   "metadata": {
    "collapsed": false
   },
   "outputs": [],
   "source": [
    "corr = x.corr()['SalePrice'].to_frame()\n",
    "corr['abs_corr'] = abs(corr[\"SalePrice\"])\n",
    "for r in corr.index:\n",
    "    selection = corr.loc[r,'abs_corr']\n",
    "    if selection < .25: \n",
    "        del regc[r]\n",
    "        if r in testc.columns:\n",
    "            del testc[r]"
   ]
  },
  {
   "cell_type": "code",
   "execution_count": 46,
   "metadata": {
    "collapsed": false
   },
   "outputs": [
    {
     "data": {
      "text/plain": [
       "(1460, 301)"
      ]
     },
     "execution_count": 46,
     "metadata": {},
     "output_type": "execute_result"
    }
   ],
   "source": [
    "df.shape"
   ]
  },
  {
   "cell_type": "code",
   "execution_count": 47,
   "metadata": {
    "collapsed": false
   },
   "outputs": [
    {
     "data": {
      "text/plain": [
       "(1460, 156)"
      ]
     },
     "execution_count": 47,
     "metadata": {},
     "output_type": "execute_result"
    }
   ],
   "source": [
    "reg.shape"
   ]
  },
  {
   "cell_type": "code",
   "execution_count": 48,
   "metadata": {
    "collapsed": false
   },
   "outputs": [
    {
     "data": {
      "text/plain": [
       "(1460, 44)"
      ]
     },
     "execution_count": 48,
     "metadata": {},
     "output_type": "execute_result"
    }
   ],
   "source": [
    "regc.shape"
   ]
  },
  {
   "cell_type": "markdown",
   "metadata": {},
   "source": [
    "We see that we are now down to 44 independent variables instead of 301"
   ]
  },
  {
   "cell_type": "code",
   "execution_count": 49,
   "metadata": {
    "collapsed": false
   },
   "outputs": [
    {
     "name": "stdout",
     "output_type": "stream",
     "text": [
      "Train RMSLE: 0.1563868814263792\n",
      "Test RMSLE: 0.15928614668470042\n"
     ]
    }
   ],
   "source": [
    "scaler = StandardScaler()\n",
    "scaler.fit(regc)\n",
    "scaled_reg = scaler.transform(regc)\n",
    "X_train, X_test, y_train, y_test = train_test_split(scaled_reg, ltarget, test_size=0.33, random_state=42)\n",
    "\n",
    "linear_regression_model = SGDRegressor(tol=.0001, eta0=.001)\n",
    "linear_regression_model.fit(X_train, y_train)\n",
    "train_predictions = linear_regression_model.predict(X_train)\n",
    "test_predictions = linear_regression_model.predict(X_test)\n",
    "\n",
    "y_train = np.exp(y_train)\n",
    "y_test = np.exp(y_test)\n",
    "train_predictions = np.exp(train_predictions)\n",
    "test_predictions = np.exp(test_predictions)\n",
    "\n",
    "train_mse = rmsle(y_train, train_predictions)\n",
    "test_mse = rmsle(y_test, test_predictions)\n",
    "\n",
    "print(\"Train RMSLE: {}\".format(train_mse))\n",
    "print(\"Test RMSLE: {}\".format(test_mse))"
   ]
  },
  {
   "cell_type": "code",
   "execution_count": 58,
   "metadata": {
    "collapsed": false
   },
   "outputs": [],
   "source": [
    "testc = testc.fillna(value=testc.mean())\n",
    "scaler.fit(testc)\n",
    "scaled_reg = scaler.transform(testc)\n",
    "res = linear_regression_model.predict(scaled_reg)"
   ]
  },
  {
   "cell_type": "code",
   "execution_count": 59,
   "metadata": {
    "collapsed": false
   },
   "outputs": [],
   "source": [
    "results = pd.DataFrame(res)\n",
    "results[0] = np.exp(results[0])\n",
    "results.to_csv('final.csv')"
   ]
  },
  {
   "cell_type": "markdown",
   "metadata": {},
   "source": [
    "### Kaggle Score .212"
   ]
  },
  {
   "cell_type": "markdown",
   "metadata": {},
   "source": [
    "#### We now seem to have a little higher bias, but at least the train/test RMSLE are closer. Perhaps we have less overfitting. \n",
    "- The learning curve also looks a little better"
   ]
  },
  {
   "cell_type": "code",
   "execution_count": 60,
   "metadata": {
    "collapsed": false
   },
   "outputs": [
    {
     "name": "stderr",
     "output_type": "stream",
     "text": [
      "C:\\Users\\jonathanjensen\\Anaconda3\\lib\\site-packages\\sklearn\\linear_model\\stochastic_gradient.py:1014: ConvergenceWarning: Maximum number of iteration reached before convergence. Consider increasing max_iter to improve the fit.\n",
      "  ConvergenceWarning)\n",
      "C:\\Users\\jonathanjensen\\Anaconda3\\lib\\site-packages\\sklearn\\linear_model\\stochastic_gradient.py:1014: ConvergenceWarning: Maximum number of iteration reached before convergence. Consider increasing max_iter to improve the fit.\n",
      "  ConvergenceWarning)\n",
      "C:\\Users\\jonathanjensen\\Anaconda3\\lib\\site-packages\\sklearn\\linear_model\\stochastic_gradient.py:1014: ConvergenceWarning: Maximum number of iteration reached before convergence. Consider increasing max_iter to improve the fit.\n",
      "  ConvergenceWarning)\n",
      "C:\\Users\\jonathanjensen\\Anaconda3\\lib\\site-packages\\sklearn\\linear_model\\stochastic_gradient.py:1014: ConvergenceWarning: Maximum number of iteration reached before convergence. Consider increasing max_iter to improve the fit.\n",
      "  ConvergenceWarning)\n",
      "C:\\Users\\jonathanjensen\\Anaconda3\\lib\\site-packages\\sklearn\\linear_model\\stochastic_gradient.py:1014: ConvergenceWarning: Maximum number of iteration reached before convergence. Consider increasing max_iter to improve the fit.\n",
      "  ConvergenceWarning)\n"
     ]
    },
    {
     "data": {
      "text/plain": [
       "<module 'matplotlib.pyplot' from 'C:\\\\Users\\\\jonathanjensen\\\\Anaconda3\\\\lib\\\\site-packages\\\\matplotlib\\\\pyplot.py'>"
      ]
     },
     "execution_count": 60,
     "metadata": {},
     "output_type": "execute_result"
    },
    {
     "data": {
      "image/png": "[encoded data removed]",
      "text/plain": [
       "<matplotlib.figure.Figure at 0xb82a6a0>"
      ]
     },
     "metadata": {},
     "output_type": "display_data"
    }
   ],
   "source": [
    "plot_learning_curve(linear_regression_model, \"Learning Curve\", X_train, y_train, cv=5)"
   ]
  },
  {
   "cell_type": "markdown",
   "metadata": {},
   "source": [
    "Now lets try adding in some Polynomial Features"
   ]
  },
  {
   "cell_type": "code",
   "execution_count": 61,
   "metadata": {
    "collapsed": false
   },
   "outputs": [
    {
     "name": "stdout",
     "output_type": "stream",
     "text": [
      "Train RMSLE: 0.12215733633742945\n",
      "Test RMSLE: 0.1270585353238066\n"
     ]
    }
   ],
   "source": [
    "poly = PolynomialFeatures(2, include_bias=True)\n",
    "poly_df = poly.fit_transform(regc)\n",
    "scaled_poly_df = scaler.fit_transform(poly_df)\n",
    "X_train, X_test, y_train, y_test = train_test_split(scaled_poly_df, ltarget, test_size=0.33, random_state=42)\n",
    "\n",
    "linear_regression_model.fit(scaled_poly_df, ltarget)\n",
    "train_predictions = linear_regression_model.predict(X_train)\n",
    "test_predictions = linear_regression_model.predict(X_test)\n",
    "\n",
    "y_train = np.exp(y_train)\n",
    "y_test = np.exp(y_test)\n",
    "train_predictions = np.exp(train_predictions)\n",
    "test_predictions = np.exp(test_predictions)\n",
    "\n",
    "train_mse = rmsle(y_train, train_predictions)\n",
    "test_mse = rmsle(y_test, test_predictions)\n",
    "\n",
    "print(\"Train RMSLE: {}\".format(train_mse))\n",
    "print(\"Test RMSLE: {}\".format(test_mse))"
   ]
  },
  {
   "cell_type": "code",
   "execution_count": 62,
   "metadata": {
    "collapsed": false
   },
   "outputs": [
    {
     "data": {
      "text/plain": [
       "(1460, 1035)"
      ]
     },
     "execution_count": 62,
     "metadata": {},
     "output_type": "execute_result"
    }
   ],
   "source": [
    "scaled_poly_df.shape"
   ]
  },
  {
   "cell_type": "code",
   "execution_count": 68,
   "metadata": {
    "collapsed": false
   },
   "outputs": [],
   "source": [
    "testc= testc.fillna(value=testc.mean())\n",
    "test_poly_df = poly.fit_transform(testc)\n",
    "test_scaled_poly_df = scaler.fit_transform(test_poly_df)\n",
    "test_predictions = linear_regression_model.predict(test_scaled_poly_df)\n"
   ]
  },
  {
   "cell_type": "code",
   "execution_count": 69,
   "metadata": {
    "collapsed": false
   },
   "outputs": [],
   "source": [
    "res = pd.DataFrame(test_predictions)\n",
    "res = res.reset_index()\n",
    "res.columns = ['Id','SalePrice']\n",
    "res['SalePrice'] = np.exp(res['SalePrice'])\n",
    "res['Id'] = testc.reset_index()['Id']\n",
    "res.to_csv('final.csv',index=False)"
   ]
  },
  {
   "cell_type": "markdown",
   "metadata": {},
   "source": [
    "### I tested out the model above on Kaggle, scored .16"
   ]
  },
  {
   "cell_type": "markdown",
   "metadata": {},
   "source": [
    "- Things are starting to look a little better. \n",
    "- The good RMSLE on Kaggle are about .11"
   ]
  },
  {
   "cell_type": "code",
   "execution_count": 70,
   "metadata": {
    "collapsed": false
   },
   "outputs": [
    {
     "data": {
      "text/plain": [
       "(1460, 1035)"
      ]
     },
     "execution_count": 70,
     "metadata": {},
     "output_type": "execute_result"
    }
   ],
   "source": [
    "scaled_poly_df.shape"
   ]
  },
  {
   "cell_type": "markdown",
   "metadata": {},
   "source": [
    "Our model is pretty inconsistent, probably because of the 1770 variables and 1460 observations. "
   ]
  },
  {
   "cell_type": "code",
   "execution_count": 71,
   "metadata": {
    "collapsed": false
   },
   "outputs": [
    {
     "name": "stderr",
     "output_type": "stream",
     "text": [
      "C:\\Users\\jonathanjensen\\Anaconda3\\lib\\site-packages\\sklearn\\linear_model\\coordinate_descent.py:491: ConvergenceWarning: Objective did not converge. You might want to increase the number of iterations. Fitting data with very small alpha may cause precision problems.\n",
      "  ConvergenceWarning)\n"
     ]
    },
    {
     "name": "stdout",
     "output_type": "stream",
     "text": [
      "Train MSE: 1234325191.651079\n",
      "Test MSE: 1379506813.1780705\n"
     ]
    }
   ],
   "source": [
    "clf = ElasticNetCV(l1_ratio=[.1, .5, .7, .9, .95, .99, 1], max_iter=1000)\n",
    "clf.fit(X_train, y_train)\n",
    "train_predictions = clf.predict(X_train)\n",
    "test_predictions = clf.predict(X_test)\n",
    "print(\"Train MSE: {}\".format(mean_squared_error(y_train, train_predictions)))\n",
    "print(\"Test MSE: {}\".format(mean_squared_error(y_test, test_predictions)))"
   ]
  },
  {
   "cell_type": "code",
   "execution_count": 72,
   "metadata": {
    "collapsed": false
   },
   "outputs": [],
   "source": [
    "poly = pd.DataFrame(scaled_poly_df)\n",
    "test_poly = pd.DataFrame(test_scaled_poly_df)\n",
    "\n",
    "poly.columns = [\"c\" + str(i) for i in poly.columns]\n",
    "test_poly.columns = [\"c\" + str(i) for i in test_poly.columns]"
   ]
  },
  {
   "cell_type": "code",
   "execution_count": 73,
   "metadata": {
    "collapsed": false
   },
   "outputs": [
    {
     "data": {
      "text/plain": [
       "(1460, 1035)"
      ]
     },
     "execution_count": 73,
     "metadata": {},
     "output_type": "execute_result"
    }
   ],
   "source": [
    "poly.shape"
   ]
  },
  {
   "cell_type": "code",
   "execution_count": 74,
   "metadata": {
    "collapsed": false
   },
   "outputs": [
    {
     "data": {
      "text/html": [
       "<div>\n",
       "<style>\n",
       "    .dataframe thead tr:only-child th {\n",
       "        text-align: right;\n",
       "    }\n",
       "\n",
       "    .dataframe thead th {\n",
       "        text-align: left;\n",
       "    }\n",
       "\n",
       "    .dataframe tbody tr th {\n",
       "        vertical-align: top;\n",
       "    }\n",
       "</style>\n",
       "<table border=\"1\" class=\"dataframe\">\n",
       "  <thead>\n",
       "    <tr style=\"text-align: right;\">\n",
       "      <th></th>\n",
       "      <th>0</th>\n",
       "    </tr>\n",
       "  </thead>\n",
       "  <tbody>\n",
       "    <tr>\n",
       "      <th>count</th>\n",
       "      <td>1035.000000</td>\n",
       "    </tr>\n",
       "    <tr>\n",
       "      <th>mean</th>\n",
       "      <td>104.743782</td>\n",
       "    </tr>\n",
       "    <tr>\n",
       "      <th>std</th>\n",
       "      <td>84.690466</td>\n",
       "    </tr>\n",
       "    <tr>\n",
       "      <th>min</th>\n",
       "      <td>-209.535606</td>\n",
       "    </tr>\n",
       "    <tr>\n",
       "      <th>10%</th>\n",
       "      <td>0.000000</td>\n",
       "    </tr>\n",
       "    <tr>\n",
       "      <th>25%</th>\n",
       "      <td>61.188747</td>\n",
       "    </tr>\n",
       "    <tr>\n",
       "      <th>30%</th>\n",
       "      <td>73.749936</td>\n",
       "    </tr>\n",
       "    <tr>\n",
       "      <th>50%</th>\n",
       "      <td>106.590679</td>\n",
       "    </tr>\n",
       "    <tr>\n",
       "      <th>60%</th>\n",
       "      <td>122.963334</td>\n",
       "    </tr>\n",
       "    <tr>\n",
       "      <th>90%</th>\n",
       "      <td>206.002198</td>\n",
       "    </tr>\n",
       "    <tr>\n",
       "      <th>max</th>\n",
       "      <td>391.461668</td>\n",
       "    </tr>\n",
       "  </tbody>\n",
       "</table>\n",
       "</div>"
      ],
      "text/plain": [
       "                 0\n",
       "count  1035.000000\n",
       "mean    104.743782\n",
       "std      84.690466\n",
       "min    -209.535606\n",
       "10%       0.000000\n",
       "25%      61.188747\n",
       "30%      73.749936\n",
       "50%     106.590679\n",
       "60%     122.963334\n",
       "90%     206.002198\n",
       "max     391.461668"
      ]
     },
     "execution_count": 74,
     "metadata": {},
     "output_type": "execute_result"
    }
   ],
   "source": [
    "beta = clf.coef_\n",
    "b = pd.DataFrame(beta)\n",
    "#b[0] = np.abs(b[0])\n",
    "b.describe(percentiles= [.1, .25,.3, .6, .9])"
   ]
  },
  {
   "cell_type": "markdown",
   "metadata": {},
   "source": [
    "Lets Eliminate any parameters that are below the 50th percentile"
   ]
  },
  {
   "cell_type": "code",
   "execution_count": 77,
   "metadata": {
    "collapsed": false
   },
   "outputs": [],
   "source": [
    "polycv = poly.copy()\n",
    "testcv = test_poly.copy()\n",
    "b = b.transpose()\n",
    "b.columns = polycv.columns\n",
    "for r in polycv.columns:\n",
    "    score = b.loc[0,r]\n",
    "    if score < 0:\n",
    "        del polycv[r]\n",
    "        del testcv[r]"
   ]
  },
  {
   "cell_type": "code",
   "execution_count": 78,
   "metadata": {
    "collapsed": false
   },
   "outputs": [
    {
     "data": {
      "text/plain": [
       "(1460, 937)"
      ]
     },
     "execution_count": 78,
     "metadata": {},
     "output_type": "execute_result"
    }
   ],
   "source": [
    "polycv.shape"
   ]
  },
  {
   "cell_type": "code",
   "execution_count": 79,
   "metadata": {
    "collapsed": true
   },
   "outputs": [],
   "source": [
    "linear_regression_model = SGDRegressor(tol=.0001, eta0=.001, max_iter = 100000)\n"
   ]
  },
  {
   "cell_type": "code",
   "execution_count": 80,
   "metadata": {
    "collapsed": false
   },
   "outputs": [
    {
     "name": "stdout",
     "output_type": "stream",
     "text": [
      "Train RMSLE: 0.12444414806580306\n",
      "Test RMSLE: 0.1312314791374987\n"
     ]
    }
   ],
   "source": [
    "X_train, X_test, y_train, y_test = train_test_split(polycv, ltarget, test_size=0.33, random_state=42)\n",
    "linear_regression_model.fit(polycv, ltarget)\n",
    "train_predictions = linear_regression_model.predict(X_train)\n",
    "test_predictions = linear_regression_model.predict(X_test)\n",
    "y_train = np.exp(y_train)\n",
    "y_test = np.exp(y_test)\n",
    "train_predictions = np.exp(train_predictions)\n",
    "test_predictions = np.exp(test_predictions)\n",
    "\n",
    "train_mse = rmsle(y_train, train_predictions)\n",
    "test_mse = rmsle(y_test, test_predictions)\n",
    "\n",
    "print(\"Train RMSLE: {}\".format(train_mse))\n",
    "print(\"Test RMSLE: {}\".format(test_mse))"
   ]
  },
  {
   "cell_type": "code",
   "execution_count": 81,
   "metadata": {
    "collapsed": false
   },
   "outputs": [],
   "source": [
    "test_predictions = linear_regression_model.predict(testcv)\n",
    "res = pd.DataFrame(test_predictions)\n",
    "res.columns = ['SalePrice']\n",
    "res['SalePrice'] = np.exp(res['SalePrice'])\n",
    "res.to_csv('final.csv')"
   ]
  },
  {
   "cell_type": "markdown",
   "metadata": {},
   "source": [
    "### Overall Best Score on Kaggle is .1497\n",
    "- If I were to continue working on this problem, I would do the following:\n",
    "- Extensively clean the data,\n",
    "    - Seperate out variables that are pretty much the same\n",
    "    - fill missing values better\n",
    "\n",
    "      "
   ]
  },
  {
   "cell_type": "code",
   "execution_count": null,
   "metadata": {
    "collapsed": true
   },
   "outputs": [],
   "source": []
  }
 ],
 "metadata": {
  "anaconda-cloud": {},
  "kernelspec": {
   "display_name": "Python [Anaconda3]",
   "language": "python",
   "name": "Python [Anaconda3]"
  },
  "language_info": {
   "codemirror_mode": {
    "name": "ipython",
    "version": 3
   },
   "file_extension": ".py",
   "mimetype": "text/x-python",
   "name": "python",
   "nbconvert_exporter": "python",
   "pygments_lexer": "ipython3",
   "version": "3.5.2"
  }
 },
 "nbformat": 4,
 "nbformat_minor": 2
}
